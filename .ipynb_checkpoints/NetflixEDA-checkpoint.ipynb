{
 "cells": [
  {
   "cell_type": "markdown",
   "id": "896ece98-8fb0-4d8b-918d-21c59927ad27",
   "metadata": {},
   "source": [
    "# Netflix Exploratory Data Analysis\n",
    "---\n",
    "\n",
    "## 1. Introduction\n",
    "\n",
    "This project was developed as a **personal learning exercise** to strengthen my skills in **data analysis**, with a particular focus on **Exploratory Data Analysis (EDA)**. The goal is twofold:  \n",
    "1. To practice the process of **cleaning, exploring, and visualizing real-world data**.  \n",
    "2. To extract **meaningful insights** about the structure and trends of Netflix content.  \n",
    "\n",
    "The dataset used in this analysis comes from [Kaggle’s *Netflix Movies and TV Shows* dataset](https://www.kaggle.com/datasets/shivamb/netflix-shows), which contains information such as titles, release years, countries, genres, ratings, and durations. This rich dataset provides an excellent opportunity to explore patterns in Netflix’s catalog and to demonstrate the application of various Python tools for data analysis.\n",
    "\n",
    "\n",
    "### 1.1. Before starting\n",
    "\n",
    "Before diving into the dataset, it is essential to import the core Python libraries that will support the analysis. These libraries provide the necessary tools for data manipulation, numerical computations, and visualization, forming the foundation of most modern data analysis workflows."
   ]
  },
  {
   "cell_type": "code",
   "execution_count": 1,
   "id": "0563257f-9ce8-4248-9cad-37e8fd4c974a",
   "metadata": {},
   "outputs": [],
   "source": [
    "import pandas as pd\n",
    "import numpy as np\n",
    "import matplotlib.pyplot as plt"
   ]
  },
  {
   "cell_type": "markdown",
   "id": "6e1bb23a-7526-4c3a-9060-bcc756fa35ae",
   "metadata": {},
   "source": [
    "After setting up the environment, the next step is to **load the dataset** into a Pandas DataFrame. This will allow us to efficiently manipulate, clean, and explore the data throughout the analysis.\n",
    "\n",
    "The dataset is stored in the local `./dataset` folder as a CSV file. We begin by reading it into a DataFrame and inspecting its basic structure to better understand its contents."
   ]
  },
  {
   "cell_type": "code",
   "execution_count": 2,
   "id": "a9bbd6fc-8e6d-43a9-b18c-57cf997d3dad",
   "metadata": {},
   "outputs": [
    {
     "name": "stdout",
     "output_type": "stream",
     "text": [
      "(8807, 12)\n"
     ]
    }
   ],
   "source": [
    "df = pd.read_csv('./dataset/netflix_titles.csv')\n",
    "print(df.shape)"
   ]
  },
  {
   "cell_type": "markdown",
   "id": "2db39ae2-7908-43f9-990d-36620ba1807f",
   "metadata": {},
   "source": [
    "We can confirm that the data is correctly imported. Now it is time to start doing the data Analysis\n",
    "\n",
    "---\n",
    "## 2. Data Analysis\n",
    "\n",
    "### 2.1. Data Overview\n",
    "\n",
    "Before performing any cleaning or detailed exploration, it is important to gain a **general understanding** of the dataset. In this step, we will:  \n",
    "\n",
    "- Inspect the first few rows of the data.  \n",
    "- Check the dataset’s dimensions (number of rows and columns).  \n",
    "- Review each feature, including its data type and meaning.  \n",
    "- Identify missing values and duplicates.\n",
    "\n",
    "This initial inspection helps to **frame the scope of the analysis** and informs the decisions we will make in the data cleaning phase."
   ]
  },
  {
   "cell_type": "code",
   "execution_count": 3,
   "id": "e9924bcd-b099-4690-89a1-a78ed01422be",
   "metadata": {},
   "outputs": [
    {
     "data": {
      "text/html": [
       "<div>\n",
       "<style scoped>\n",
       "    .dataframe tbody tr th:only-of-type {\n",
       "        vertical-align: middle;\n",
       "    }\n",
       "\n",
       "    .dataframe tbody tr th {\n",
       "        vertical-align: top;\n",
       "    }\n",
       "\n",
       "    .dataframe thead th {\n",
       "        text-align: right;\n",
       "    }\n",
       "</style>\n",
       "<table border=\"1\" class=\"dataframe\">\n",
       "  <thead>\n",
       "    <tr style=\"text-align: right;\">\n",
       "      <th></th>\n",
       "      <th>show_id</th>\n",
       "      <th>type</th>\n",
       "      <th>title</th>\n",
       "      <th>director</th>\n",
       "      <th>cast</th>\n",
       "      <th>country</th>\n",
       "      <th>date_added</th>\n",
       "      <th>release_year</th>\n",
       "      <th>rating</th>\n",
       "      <th>duration</th>\n",
       "      <th>listed_in</th>\n",
       "      <th>description</th>\n",
       "    </tr>\n",
       "  </thead>\n",
       "  <tbody>\n",
       "    <tr>\n",
       "      <th>0</th>\n",
       "      <td>s1</td>\n",
       "      <td>Movie</td>\n",
       "      <td>Dick Johnson Is Dead</td>\n",
       "      <td>Kirsten Johnson</td>\n",
       "      <td>NaN</td>\n",
       "      <td>United States</td>\n",
       "      <td>September 25, 2021</td>\n",
       "      <td>2020</td>\n",
       "      <td>PG-13</td>\n",
       "      <td>90 min</td>\n",
       "      <td>Documentaries</td>\n",
       "      <td>As her father nears the end of his life, filmm...</td>\n",
       "    </tr>\n",
       "    <tr>\n",
       "      <th>1</th>\n",
       "      <td>s2</td>\n",
       "      <td>TV Show</td>\n",
       "      <td>Blood &amp; Water</td>\n",
       "      <td>NaN</td>\n",
       "      <td>Ama Qamata, Khosi Ngema, Gail Mabalane, Thaban...</td>\n",
       "      <td>South Africa</td>\n",
       "      <td>September 24, 2021</td>\n",
       "      <td>2021</td>\n",
       "      <td>TV-MA</td>\n",
       "      <td>2 Seasons</td>\n",
       "      <td>International TV Shows, TV Dramas, TV Mysteries</td>\n",
       "      <td>After crossing paths at a party, a Cape Town t...</td>\n",
       "    </tr>\n",
       "    <tr>\n",
       "      <th>2</th>\n",
       "      <td>s3</td>\n",
       "      <td>TV Show</td>\n",
       "      <td>Ganglands</td>\n",
       "      <td>Julien Leclercq</td>\n",
       "      <td>Sami Bouajila, Tracy Gotoas, Samuel Jouy, Nabi...</td>\n",
       "      <td>NaN</td>\n",
       "      <td>September 24, 2021</td>\n",
       "      <td>2021</td>\n",
       "      <td>TV-MA</td>\n",
       "      <td>1 Season</td>\n",
       "      <td>Crime TV Shows, International TV Shows, TV Act...</td>\n",
       "      <td>To protect his family from a powerful drug lor...</td>\n",
       "    </tr>\n",
       "    <tr>\n",
       "      <th>3</th>\n",
       "      <td>s4</td>\n",
       "      <td>TV Show</td>\n",
       "      <td>Jailbirds New Orleans</td>\n",
       "      <td>NaN</td>\n",
       "      <td>NaN</td>\n",
       "      <td>NaN</td>\n",
       "      <td>September 24, 2021</td>\n",
       "      <td>2021</td>\n",
       "      <td>TV-MA</td>\n",
       "      <td>1 Season</td>\n",
       "      <td>Docuseries, Reality TV</td>\n",
       "      <td>Feuds, flirtations and toilet talk go down amo...</td>\n",
       "    </tr>\n",
       "    <tr>\n",
       "      <th>4</th>\n",
       "      <td>s5</td>\n",
       "      <td>TV Show</td>\n",
       "      <td>Kota Factory</td>\n",
       "      <td>NaN</td>\n",
       "      <td>Mayur More, Jitendra Kumar, Ranjan Raj, Alam K...</td>\n",
       "      <td>India</td>\n",
       "      <td>September 24, 2021</td>\n",
       "      <td>2021</td>\n",
       "      <td>TV-MA</td>\n",
       "      <td>2 Seasons</td>\n",
       "      <td>International TV Shows, Romantic TV Shows, TV ...</td>\n",
       "      <td>In a city of coaching centers known to train I...</td>\n",
       "    </tr>\n",
       "  </tbody>\n",
       "</table>\n",
       "</div>"
      ],
      "text/plain": [
       "  show_id     type                  title         director  \\\n",
       "0      s1    Movie   Dick Johnson Is Dead  Kirsten Johnson   \n",
       "1      s2  TV Show          Blood & Water              NaN   \n",
       "2      s3  TV Show              Ganglands  Julien Leclercq   \n",
       "3      s4  TV Show  Jailbirds New Orleans              NaN   \n",
       "4      s5  TV Show           Kota Factory              NaN   \n",
       "\n",
       "                                                cast        country  \\\n",
       "0                                                NaN  United States   \n",
       "1  Ama Qamata, Khosi Ngema, Gail Mabalane, Thaban...   South Africa   \n",
       "2  Sami Bouajila, Tracy Gotoas, Samuel Jouy, Nabi...            NaN   \n",
       "3                                                NaN            NaN   \n",
       "4  Mayur More, Jitendra Kumar, Ranjan Raj, Alam K...          India   \n",
       "\n",
       "           date_added  release_year rating   duration  \\\n",
       "0  September 25, 2021          2020  PG-13     90 min   \n",
       "1  September 24, 2021          2021  TV-MA  2 Seasons   \n",
       "2  September 24, 2021          2021  TV-MA   1 Season   \n",
       "3  September 24, 2021          2021  TV-MA   1 Season   \n",
       "4  September 24, 2021          2021  TV-MA  2 Seasons   \n",
       "\n",
       "                                           listed_in  \\\n",
       "0                                      Documentaries   \n",
       "1    International TV Shows, TV Dramas, TV Mysteries   \n",
       "2  Crime TV Shows, International TV Shows, TV Act...   \n",
       "3                             Docuseries, Reality TV   \n",
       "4  International TV Shows, Romantic TV Shows, TV ...   \n",
       "\n",
       "                                         description  \n",
       "0  As her father nears the end of his life, filmm...  \n",
       "1  After crossing paths at a party, a Cape Town t...  \n",
       "2  To protect his family from a powerful drug lor...  \n",
       "3  Feuds, flirtations and toilet talk go down amo...  \n",
       "4  In a city of coaching centers known to train I...  "
      ]
     },
     "metadata": {},
     "output_type": "display_data"
    }
   ],
   "source": [
    "display(df.head())"
   ]
  },
  {
   "cell_type": "code",
   "execution_count": 4,
   "id": "8971d410-7b66-4bac-92f2-dd3a7a95daf4",
   "metadata": {},
   "outputs": [
    {
     "name": "stdout",
     "output_type": "stream",
     "text": [
      "Shape: (8807, 12)\n"
     ]
    }
   ],
   "source": [
    "print(f\"Shape: {df.shape}\")"
   ]
  },
  {
   "cell_type": "code",
   "execution_count": 5,
   "id": "da0b036e-2d67-4058-8af0-d4e5289be0a8",
   "metadata": {},
   "outputs": [
    {
     "name": "stdout",
     "output_type": "stream",
     "text": [
      "<class 'pandas.core.frame.DataFrame'>\n",
      "RangeIndex: 8807 entries, 0 to 8806\n",
      "Data columns (total 12 columns):\n",
      " #   Column        Non-Null Count  Dtype \n",
      "---  ------        --------------  ----- \n",
      " 0   show_id       8807 non-null   object\n",
      " 1   type          8807 non-null   object\n",
      " 2   title         8807 non-null   object\n",
      " 3   director      6173 non-null   object\n",
      " 4   cast          7982 non-null   object\n",
      " 5   country       7976 non-null   object\n",
      " 6   date_added    8797 non-null   object\n",
      " 7   release_year  8807 non-null   int64 \n",
      " 8   rating        8803 non-null   object\n",
      " 9   duration      8804 non-null   object\n",
      " 10  listed_in     8807 non-null   object\n",
      " 11  description   8807 non-null   object\n",
      "dtypes: int64(1), object(11)\n",
      "memory usage: 825.8+ KB\n",
      "None\n"
     ]
    }
   ],
   "source": [
    "print(df.info())"
   ]
  },
  {
   "cell_type": "markdown",
   "id": "7fdaebef-45fc-4277-8c1a-5a72db86fb64",
   "metadata": {},
   "source": [
    "| Feature | Description | Category |\n",
    "|-----|-----|-----|\n",
    "| show_id | Unique identifier for each show of the dataset. | Identifier |\n",
    "| type | Type of content - either *Movie* or *TV show*. | Categorical |\n",
    "| title | Title of the movie or TV show. | Text |\n",
    "| director | Director of the content. | Categorical |\n",
    "| cast | Main actors/actresses featured in the content. | Text/Categorical |\n",
    "| country | Country (or countries) where the content was produced. | Categorical |\n",
    "| date_added | Date when the content was added to Netflix. | Datetime |\n",
    "| release_year | Year the content was originally released. | Numerical (Integer) |\n",
    "| rating | Netflix maturity rating. | Categorical |\n",
    "| duration | Duration of the content - in minutes for Movies or in number of seasons for TV Shows. | Mixed (Numeric/String) |\n",
    "| listed_in | Genres/Categories of the content (comma-separated list). | Categorical (Multi-label) |\n",
    "| description | Short summary of the content. | Text |"
   ]
  },
  {
   "cell_type": "markdown",
   "id": "e2bf3f8f-9e05-400d-a5d3-11b92f870c18",
   "metadata": {},
   "source": [
    "I will separate the missing values and duplicate values identification in two ways: Quantitative identification and percentage"
   ]
  },
  {
   "cell_type": "code",
   "execution_count": 6,
   "id": "38625064-9f00-439a-b36a-716d56d9bdc4",
   "metadata": {},
   "outputs": [
    {
     "name": "stdout",
     "output_type": "stream",
     "text": [
      "Missing Values:\n"
     ]
    },
    {
     "data": {
      "text/plain": [
       "director      2634\n",
       "cast           825\n",
       "country        831\n",
       "date_added      10\n",
       "rating           4\n",
       "duration         3\n",
       "dtype: int64"
      ]
     },
     "metadata": {},
     "output_type": "display_data"
    }
   ],
   "source": [
    "missing_count = df.isna().sum()\n",
    "missing_count = missing_count[missing_count!=0]\n",
    "print(\"Missing Values:\")\n",
    "display(missing_count)"
   ]
  },
  {
   "cell_type": "code",
   "execution_count": 7,
   "id": "8782f6c3-0bf4-47c9-a7e7-97ee58d897a2",
   "metadata": {},
   "outputs": [
    {
     "name": "stdout",
     "output_type": "stream",
     "text": [
      "Missing Values Percentage\n"
     ]
    },
    {
     "data": {
      "text/plain": [
       "director      29.91\n",
       "cast           9.37\n",
       "country        9.44\n",
       "date_added     0.11\n",
       "rating         0.05\n",
       "duration       0.03\n",
       "dtype: float64"
      ]
     },
     "metadata": {},
     "output_type": "display_data"
    }
   ],
   "source": [
    "missing_percent=round((df.isna().sum()/len(df))*100, 2)\n",
    "missing_percent = missing_percent[missing_percent!=0]\n",
    "print(\"Missing Values Percentage\")\n",
    "display(missing_percent)"
   ]
  },
  {
   "cell_type": "markdown",
   "id": "5ab0a5e3-9d86-41cf-a9e5-829954c9bd0f",
   "metadata": {},
   "source": [
    "The table above shows the **percentage of missing values** for each feature in the dataset (features not in this table have no missing values)\n",
    "\n",
    "As we can see, the `director` feature has a high percentage of missing values (~30%). Handling these missing entries by filling or imputing could significantly distort the dataset, introducing bias and making it no longer reflect reality. Therefore, for the purposes of this analysis, we will **leave the missing values in `director` as they are**. Same for `cast`\n",
    "\n",
    "The other columns have a relatively low percentage of missing data, and we will handle them as needed during the data cleaning phase."
   ]
  },
  {
   "cell_type": "code",
   "execution_count": 8,
   "id": "73b0c430-a93e-495a-bdc1-2cc9ea9b5d13",
   "metadata": {},
   "outputs": [
    {
     "name": "stdout",
     "output_type": "stream",
     "text": [
      "Total duplicate rows: 0\n"
     ]
    }
   ],
   "source": [
    "duplicate_count = df.duplicated().sum()\n",
    "print(f\"Total duplicate rows: {duplicate_count}\")"
   ]
  },
  {
   "cell_type": "markdown",
   "id": "ab76289b-e634-46f4-b909-93192f842f0a",
   "metadata": {},
   "source": [
    "As there are no duplicate rows, **no further action is required** for duplicates.\n",
    "\n",
    "---"
   ]
  },
  {
   "cell_type": "markdown",
   "id": "acf81e43-f752-487f-bbc4-490fd62028b4",
   "metadata": {},
   "source": [
    "### 2.2. Data Cleaning & Preprocessing\n",
    "\n",
    "#### 2.2.1. Handling Missing Values"
   ]
  },
  {
   "cell_type": "markdown",
   "id": "a6858e53-c0e4-4ea5-b6d1-36283521d984",
   "metadata": {},
   "source": [
    "We are going to start by handling missing values. As we said before, `director`, `cast` and `country` features missing values are not going to be handled as it would deteriorate data. We are just going to fill the null values with Unknown (which might also be a valuable insight in the future)."
   ]
  },
  {
   "cell_type": "code",
   "execution_count": 9,
   "id": "5e7f1043-e46c-465e-a1c4-bb2521ec685d",
   "metadata": {},
   "outputs": [
    {
     "data": {
      "text/html": [
       "<div>\n",
       "<style scoped>\n",
       "    .dataframe tbody tr th:only-of-type {\n",
       "        vertical-align: middle;\n",
       "    }\n",
       "\n",
       "    .dataframe tbody tr th {\n",
       "        vertical-align: top;\n",
       "    }\n",
       "\n",
       "    .dataframe thead th {\n",
       "        text-align: right;\n",
       "    }\n",
       "</style>\n",
       "<table border=\"1\" class=\"dataframe\">\n",
       "  <thead>\n",
       "    <tr style=\"text-align: right;\">\n",
       "      <th></th>\n",
       "      <th>show_id</th>\n",
       "      <th>type</th>\n",
       "      <th>title</th>\n",
       "      <th>director</th>\n",
       "      <th>cast</th>\n",
       "      <th>country</th>\n",
       "      <th>date_added</th>\n",
       "      <th>release_year</th>\n",
       "      <th>rating</th>\n",
       "      <th>duration</th>\n",
       "      <th>listed_in</th>\n",
       "      <th>description</th>\n",
       "    </tr>\n",
       "  </thead>\n",
       "  <tbody>\n",
       "    <tr>\n",
       "      <th>0</th>\n",
       "      <td>s1</td>\n",
       "      <td>Movie</td>\n",
       "      <td>Dick Johnson Is Dead</td>\n",
       "      <td>Kirsten Johnson</td>\n",
       "      <td>Unknown</td>\n",
       "      <td>United States</td>\n",
       "      <td>September 25, 2021</td>\n",
       "      <td>2020</td>\n",
       "      <td>PG-13</td>\n",
       "      <td>90 min</td>\n",
       "      <td>Documentaries</td>\n",
       "      <td>As her father nears the end of his life, filmm...</td>\n",
       "    </tr>\n",
       "    <tr>\n",
       "      <th>1</th>\n",
       "      <td>s2</td>\n",
       "      <td>TV Show</td>\n",
       "      <td>Blood &amp; Water</td>\n",
       "      <td>Unknown</td>\n",
       "      <td>Ama Qamata, Khosi Ngema, Gail Mabalane, Thaban...</td>\n",
       "      <td>South Africa</td>\n",
       "      <td>September 24, 2021</td>\n",
       "      <td>2021</td>\n",
       "      <td>TV-MA</td>\n",
       "      <td>2 Seasons</td>\n",
       "      <td>International TV Shows, TV Dramas, TV Mysteries</td>\n",
       "      <td>After crossing paths at a party, a Cape Town t...</td>\n",
       "    </tr>\n",
       "    <tr>\n",
       "      <th>2</th>\n",
       "      <td>s3</td>\n",
       "      <td>TV Show</td>\n",
       "      <td>Ganglands</td>\n",
       "      <td>Julien Leclercq</td>\n",
       "      <td>Sami Bouajila, Tracy Gotoas, Samuel Jouy, Nabi...</td>\n",
       "      <td>Unknown</td>\n",
       "      <td>September 24, 2021</td>\n",
       "      <td>2021</td>\n",
       "      <td>TV-MA</td>\n",
       "      <td>1 Season</td>\n",
       "      <td>Crime TV Shows, International TV Shows, TV Act...</td>\n",
       "      <td>To protect his family from a powerful drug lor...</td>\n",
       "    </tr>\n",
       "    <tr>\n",
       "      <th>3</th>\n",
       "      <td>s4</td>\n",
       "      <td>TV Show</td>\n",
       "      <td>Jailbirds New Orleans</td>\n",
       "      <td>Unknown</td>\n",
       "      <td>Unknown</td>\n",
       "      <td>Unknown</td>\n",
       "      <td>September 24, 2021</td>\n",
       "      <td>2021</td>\n",
       "      <td>TV-MA</td>\n",
       "      <td>1 Season</td>\n",
       "      <td>Docuseries, Reality TV</td>\n",
       "      <td>Feuds, flirtations and toilet talk go down amo...</td>\n",
       "    </tr>\n",
       "    <tr>\n",
       "      <th>4</th>\n",
       "      <td>s5</td>\n",
       "      <td>TV Show</td>\n",
       "      <td>Kota Factory</td>\n",
       "      <td>Unknown</td>\n",
       "      <td>Mayur More, Jitendra Kumar, Ranjan Raj, Alam K...</td>\n",
       "      <td>India</td>\n",
       "      <td>September 24, 2021</td>\n",
       "      <td>2021</td>\n",
       "      <td>TV-MA</td>\n",
       "      <td>2 Seasons</td>\n",
       "      <td>International TV Shows, Romantic TV Shows, TV ...</td>\n",
       "      <td>In a city of coaching centers known to train I...</td>\n",
       "    </tr>\n",
       "  </tbody>\n",
       "</table>\n",
       "</div>"
      ],
      "text/plain": [
       "  show_id     type                  title         director  \\\n",
       "0      s1    Movie   Dick Johnson Is Dead  Kirsten Johnson   \n",
       "1      s2  TV Show          Blood & Water          Unknown   \n",
       "2      s3  TV Show              Ganglands  Julien Leclercq   \n",
       "3      s4  TV Show  Jailbirds New Orleans          Unknown   \n",
       "4      s5  TV Show           Kota Factory          Unknown   \n",
       "\n",
       "                                                cast        country  \\\n",
       "0                                            Unknown  United States   \n",
       "1  Ama Qamata, Khosi Ngema, Gail Mabalane, Thaban...   South Africa   \n",
       "2  Sami Bouajila, Tracy Gotoas, Samuel Jouy, Nabi...        Unknown   \n",
       "3                                            Unknown        Unknown   \n",
       "4  Mayur More, Jitendra Kumar, Ranjan Raj, Alam K...          India   \n",
       "\n",
       "           date_added  release_year rating   duration  \\\n",
       "0  September 25, 2021          2020  PG-13     90 min   \n",
       "1  September 24, 2021          2021  TV-MA  2 Seasons   \n",
       "2  September 24, 2021          2021  TV-MA   1 Season   \n",
       "3  September 24, 2021          2021  TV-MA   1 Season   \n",
       "4  September 24, 2021          2021  TV-MA  2 Seasons   \n",
       "\n",
       "                                           listed_in  \\\n",
       "0                                      Documentaries   \n",
       "1    International TV Shows, TV Dramas, TV Mysteries   \n",
       "2  Crime TV Shows, International TV Shows, TV Act...   \n",
       "3                             Docuseries, Reality TV   \n",
       "4  International TV Shows, Romantic TV Shows, TV ...   \n",
       "\n",
       "                                         description  \n",
       "0  As her father nears the end of his life, filmm...  \n",
       "1  After crossing paths at a party, a Cape Town t...  \n",
       "2  To protect his family from a powerful drug lor...  \n",
       "3  Feuds, flirtations and toilet talk go down amo...  \n",
       "4  In a city of coaching centers known to train I...  "
      ]
     },
     "metadata": {},
     "output_type": "display_data"
    }
   ],
   "source": [
    "df['director'] = df['director'].fillna('Unknown')\n",
    "df['cast'] = df['cast'].fillna('Unknown')\n",
    "df['country'] = df['country'].fillna('Unknown')\n",
    "display(df.head())"
   ]
  },
  {
   "cell_type": "markdown",
   "id": "9e18c9dd-2bba-4b94-b542-96f4a0e85a87",
   "metadata": {},
   "source": [
    "The next features to handle are `date_added`, `rating` and `duration`. First of all, it is important to transform the features to the correct variable type make analysis and values handling easier. \n",
    "\n",
    "As this functions are very different from the TV Series and the Movies we can split the dataframe into two new dataframes: **tv_series_df** (TV series only dataframe) and **movie_df** (movies only dataframe).\n",
    "\n",
    "Having this two datasets splitted is also good to get some insights later."
   ]
  },
  {
   "cell_type": "code",
   "execution_count": 10,
   "id": "550c0a82-33b1-46f0-9b43-09f788bbfa56",
   "metadata": {},
   "outputs": [],
   "source": [
    "df['date_added'] = df['date_added'].astype(str).str.strip()\n",
    "df['date_added'] = pd.to_datetime(df['date_added'], errors='coerce')\n",
    "df['release_year'] = df['release_year'].astype(int)\n",
    "\n",
    "tv_series_df = df[df['type']==\"TV Show\"].copy()\n",
    "movie_df = df[df['type']==\"Movie\"].copy()"
   ]
  },
  {
   "cell_type": "code",
   "execution_count": 11,
   "id": "7be3491c-d863-4bb2-90b1-bb09a0b47c45",
   "metadata": {},
   "outputs": [
    {
     "name": "stdout",
     "output_type": "stream",
     "text": [
      "date_added    10\n",
      "rating         2\n",
      "dtype: int64\n"
     ]
    }
   ],
   "source": [
    "print(tv_series_df.isna().sum()[tv_series_df.isna().sum()!=0])"
   ]
  },
  {
   "cell_type": "markdown",
   "id": "7ab09440-a3f3-4995-a87e-ed8ae2783ff6",
   "metadata": {},
   "source": [
    "To handle all the errors in the date_added column we sort the table by release_year and then interpolate. This can create some errors, especifically having rows where the date_added is before the release_year, which is impossible. This situation must also be handled and ensured."
   ]
  },
  {
   "cell_type": "code",
   "execution_count": 12,
   "id": "edce4d00-78a4-43ad-a689-1e1659cbc141",
   "metadata": {},
   "outputs": [],
   "source": [
    "tv_series_df=tv_series_df.sort_values(by='release_year')\n",
    "\n",
    "tv_series_df['date_added_temp']=tv_series_df['date_added'].map(lambda x: x.timestamp() if pd.notna(x) else np.nan)\n",
    "tv_series_df['date_added_temp']=tv_series_df['date_added_temp'].interpolate(method='linear')\n",
    "\n",
    "tv_series_df['date_added'] = pd.to_datetime(tv_series_df['date_added_temp'], unit='s')\n",
    "tv_series_df['date_added'] = tv_series_df['date_added'].dt.strftime('%Y-%m-%d')\n",
    "tv_series_df = tv_series_df.drop(columns='date_added_temp')"
   ]
  },
  {
   "cell_type": "code",
   "execution_count": 13,
   "id": "aefd42c3-9424-4ee8-ab7a-e86e2fc297a5",
   "metadata": {},
   "outputs": [
    {
     "name": "stdout",
     "output_type": "stream",
     "text": [
      "rating    2\n",
      "dtype: int64\n"
     ]
    }
   ],
   "source": [
    "print(tv_series_df.isna().sum()[tv_series_df.isna().sum()!=0])"
   ]
  },
  {
   "cell_type": "markdown",
   "id": "f349f4ec-b59b-431c-b5ce-c32c72f893e7",
   "metadata": {},
   "source": [
    "Having the null values handled we shall now guarantee that there are no \"impossible\" rows in the dataframe."
   ]
  },
  {
   "cell_type": "code",
   "execution_count": 17,
   "id": "fdeb9f32-c6ff-43ca-bcf6-80a802273bfe",
   "metadata": {},
   "outputs": [
    {
     "name": "stdout",
     "output_type": "stream",
     "text": [
      "Number of rows with date_added before release_year: 0\n"
     ]
    }
   ],
   "source": [
    "tv_series_df['date_added'] = pd.to_datetime(tv_series_df['date_added'], errors='coerce')\n",
    "print(f\"Number of rows with date_added before release_year: {len(tv_series_df[tv_series_df['date_added'].dt.year<tv_series_df['release_year']])}\")\n",
    "\n",
    "def adjust_date(row):\n",
    "    if pd.notna(row['date_added']) and row['date_added'].year < row['release_year']:\n",
    "        try:\n",
    "            return row['date_added'].replace(year=row['release_year'])\n",
    "        except ValueError:\n",
    "            return datetime(row['release_year'], row['date_added'].month, min(row['date_added'].day, 28))\n",
    "    return row['date_added']\n",
    "\n",
    "#temp['date_added'] = pd.to_datetime(temp['date_added'], errors='coerce')\n",
    "tv_series_df['date_added'] = tv_series_df.apply(adjust_date, axis=1)"
   ]
  },
  {
   "cell_type": "markdown",
   "id": "be380a7a-35fd-4ec2-ae1f-57b13cfd50fd",
   "metadata": {},
   "source": [
    "As we see we have 12 rows with impossible data. Let's fix it. For that I will keep the date as it is and only change the year. \n",
    "\n",
    "For example, a date_added 2012-03-01 with release_date 2015 will be changed to 2015-03-01."
   ]
  },
  {
   "cell_type": "code",
   "execution_count": null,
   "id": "77e6b0d4-f37f-4973-81f2-681c43247902",
   "metadata": {},
   "outputs": [],
   "source": [
    "def adjust_date(row):\n",
    "    if pd.notna(row['date_added']) and row['date_added'].year < row['release_year']:\n",
    "        try:\n",
    "            return row['date_added'].replace(year=row['release_year'])\n",
    "        except ValueError:\n",
    "            return datetime(row['release_year'], row['date_added'].month, min(row['date_added'].day, 28))\n",
    "    return row['date_added']\n",
    "\n",
    "tv_series_df['date_added'] = tv_series_df.apply(adjust_date, axis=1)"
   ]
  },
  {
   "cell_type": "code",
   "execution_count": 18,
   "id": "4f7bee24-d59f-49c2-8684-c1a84dd8f2f6",
   "metadata": {},
   "outputs": [
    {
     "name": "stdout",
     "output_type": "stream",
     "text": [
      "Number of rows with date_added before release_year: 0\n"
     ]
    }
   ],
   "source": [
    "print(f\"Number of rows with date_added before release_year: {len(tv_series_df[tv_series_df['date_added'].dt.year<tv_series_df['release_year']])}\")"
   ]
  },
  {
   "cell_type": "markdown",
   "id": "8be46705-9fb6-4c0d-9caf-98490d714a58",
   "metadata": {},
   "source": [
    "As we can see, we don't have any more rows with impossible data. After this we will try to check values where the date_added is before the Netflix foundation. Netflix's streaming service was only created on 2007 but Netflix already existed before, operating as a mail-order DVD rental service since August 29, 1997. So no movie nor tv shows should be added before."
   ]
  },
  {
   "cell_type": "code",
   "execution_count": 27,
   "id": "1c29b2d0-09d7-4daf-ab8a-32d6f12c9605",
   "metadata": {},
   "outputs": [
    {
     "name": "stdout",
     "output_type": "stream",
     "text": [
      "6611   2008-02-04\n",
      "5940   2013-08-02\n",
      "5939   2013-09-01\n",
      "6885   2013-10-08\n",
      "7908   2013-10-14\n",
      "          ...    \n",
      "3      2021-09-24\n",
      "4      2021-09-24\n",
      "1      2021-09-24\n",
      "1696   2021-11-15\n",
      "1551   2021-12-14\n",
      "Name: date_added, Length: 2676, dtype: datetime64[ns]\n"
     ]
    }
   ],
   "source": [
    "print(tv_series_df.sort_values(by=\"date_added\")['date_added'])"
   ]
  },
  {
   "cell_type": "markdown",
   "id": "6c391dbc-c5e4-4bf7-9b62-2630e81c648c",
   "metadata": {},
   "source": [
    "As we can see the first TV show was added in 2008 which means that all the data is correct. This means that the date_added column is already handled. "
   ]
  },
  {
   "cell_type": "code",
   "execution_count": null,
   "id": "6c4d885d-cc47-44b2-b27f-588b40da5e2f",
   "metadata": {},
   "outputs": [],
   "source": []
  }
 ],
 "metadata": {
  "kernelspec": {
   "display_name": "Python [conda env:base] *",
   "language": "python",
   "name": "conda-base-py"
  },
  "language_info": {
   "codemirror_mode": {
    "name": "ipython",
    "version": 3
   },
   "file_extension": ".py",
   "mimetype": "text/x-python",
   "name": "python",
   "nbconvert_exporter": "python",
   "pygments_lexer": "ipython3",
   "version": "3.13.5"
  }
 },
 "nbformat": 4,
 "nbformat_minor": 5
}
