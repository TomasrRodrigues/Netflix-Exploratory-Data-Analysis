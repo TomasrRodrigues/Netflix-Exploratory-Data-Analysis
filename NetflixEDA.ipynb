{
 "cells": [
  {
   "cell_type": "markdown",
   "id": "896ece98-8fb0-4d8b-918d-21c59927ad27",
   "metadata": {},
   "source": [
    "# Netflix Exploratory Data Analysis\n",
    "---\n",
    "\n",
    "## 1. Introduction\n",
    "\n",
    "This project was developed as a **personal learning exercise** to strengthen my skills in **data analysis**, with a particular focus on **Exploratory Data Analysis (EDA)**. The goal is twofold:  \n",
    "1. To practice the process of **cleaning, exploring, and visualizing real-world data**.  \n",
    "2. To extract **meaningful insights** about the structure and trends of Netflix content.  \n",
    "\n",
    "The dataset used in this analysis comes from [Kaggle’s *Netflix Movies and TV Shows* dataset](https://www.kaggle.com/datasets/shivamb/netflix-shows), which contains information such as titles, release years, countries, genres, ratings, and durations. This rich dataset provides an excellent opportunity to explore patterns in Netflix’s catalog and to demonstrate the application of various Python tools for data analysis.\n",
    "\n",
    "\n",
    "### 1.1. Before starting\n",
    "\n",
    "Before diving into the dataset, it is essential to import the core Python libraries that will support the analysis. These libraries provide the necessary tools for data manipulation, numerical computations, and visualization, forming the foundation of most modern data analysis workflows."
   ]
  },
  {
   "cell_type": "code",
   "execution_count": 1,
   "id": "0563257f-9ce8-4248-9cad-37e8fd4c974a",
   "metadata": {},
   "outputs": [],
   "source": [
    "import pandas as pd\n",
    "import numpy as np\n",
    "import matplotlib.pyplot as plt\n",
    "import matplotlib.ticker as mtick\n",
    "import seaborn as sns\n"
   ]
  },
  {
   "cell_type": "markdown",
   "id": "6e1bb23a-7526-4c3a-9060-bcc756fa35ae",
   "metadata": {},
   "source": [
    "After setting up the environment, the next step is to **load the dataset** into a Pandas DataFrame. This will allow us to efficiently manipulate, clean, and explore the data throughout the analysis.\n",
    "\n",
    "The dataset is stored in the local `./dataset` folder as a CSV file. We begin by reading it into a DataFrame and inspecting its basic structure to better understand its contents."
   ]
  },
  {
   "cell_type": "code",
   "execution_count": 2,
   "id": "a9bbd6fc-8e6d-43a9-b18c-57cf997d3dad",
   "metadata": {},
   "outputs": [
    {
     "name": "stdout",
     "output_type": "stream",
     "text": [
      "(8807, 12)\n"
     ]
    }
   ],
   "source": [
    "df = pd.read_csv('./dataset/netflix_titles.csv')\n",
    "print(df.shape)"
   ]
  },
  {
   "cell_type": "markdown",
   "id": "2db39ae2-7908-43f9-990d-36620ba1807f",
   "metadata": {},
   "source": [
    "We can confirm that the data is correctly imported. Now it is time to start doing the data Analysis\n",
    "\n",
    "---\n",
    "##\n",
    "\n",
    "## 2. Data Preparation\n",
    "\n",
    "### 2.1. Data Overview\n",
    "\n",
    "Before performing any cleaning or detailed exploration, it is important to gain a **general understanding** of the dataset. In this step, we will:  \n",
    "\n",
    "- Inspect the first few rows of the data.  \n",
    "- Check the dataset’s dimensions (number of rows and columns).  \n",
    "- Review each feature, including its data type and meaning.  \n",
    "- Identify missing values and duplicates.  \n",
    "- Explore distributions of key variables to highlight potential outliers and inconsistencies.  \n",
    "\n",
    "This initial inspection helps to **frame the scope of the analysis** and informs the decisions we will make in the data cleaning phase.\n",
    "\n",
    "#####\n",
    "#### Preview & Dimensions\n",
    "\n",
    "Before diving into cleaning or analysis, we first take a peek at the dataset to understand its structure, size, and the types of features it contains."
   ]
  },
  {
   "cell_type": "code",
   "execution_count": 3,
   "id": "e9924bcd-b099-4690-89a1-a78ed01422be",
   "metadata": {},
   "outputs": [
    {
     "data": {
      "text/html": [
       "<div>\n",
       "<style scoped>\n",
       "    .dataframe tbody tr th:only-of-type {\n",
       "        vertical-align: middle;\n",
       "    }\n",
       "\n",
       "    .dataframe tbody tr th {\n",
       "        vertical-align: top;\n",
       "    }\n",
       "\n",
       "    .dataframe thead th {\n",
       "        text-align: right;\n",
       "    }\n",
       "</style>\n",
       "<table border=\"1\" class=\"dataframe\">\n",
       "  <thead>\n",
       "    <tr style=\"text-align: right;\">\n",
       "      <th></th>\n",
       "      <th>show_id</th>\n",
       "      <th>type</th>\n",
       "      <th>title</th>\n",
       "      <th>director</th>\n",
       "      <th>cast</th>\n",
       "      <th>country</th>\n",
       "      <th>date_added</th>\n",
       "      <th>release_year</th>\n",
       "      <th>rating</th>\n",
       "      <th>duration</th>\n",
       "      <th>listed_in</th>\n",
       "      <th>description</th>\n",
       "    </tr>\n",
       "  </thead>\n",
       "  <tbody>\n",
       "    <tr>\n",
       "      <th>0</th>\n",
       "      <td>s1</td>\n",
       "      <td>Movie</td>\n",
       "      <td>Dick Johnson Is Dead</td>\n",
       "      <td>Kirsten Johnson</td>\n",
       "      <td>NaN</td>\n",
       "      <td>United States</td>\n",
       "      <td>September 25, 2021</td>\n",
       "      <td>2020</td>\n",
       "      <td>PG-13</td>\n",
       "      <td>90 min</td>\n",
       "      <td>Documentaries</td>\n",
       "      <td>As her father nears the end of his life, filmm...</td>\n",
       "    </tr>\n",
       "    <tr>\n",
       "      <th>1</th>\n",
       "      <td>s2</td>\n",
       "      <td>TV Show</td>\n",
       "      <td>Blood &amp; Water</td>\n",
       "      <td>NaN</td>\n",
       "      <td>Ama Qamata, Khosi Ngema, Gail Mabalane, Thaban...</td>\n",
       "      <td>South Africa</td>\n",
       "      <td>September 24, 2021</td>\n",
       "      <td>2021</td>\n",
       "      <td>TV-MA</td>\n",
       "      <td>2 Seasons</td>\n",
       "      <td>International TV Shows, TV Dramas, TV Mysteries</td>\n",
       "      <td>After crossing paths at a party, a Cape Town t...</td>\n",
       "    </tr>\n",
       "    <tr>\n",
       "      <th>2</th>\n",
       "      <td>s3</td>\n",
       "      <td>TV Show</td>\n",
       "      <td>Ganglands</td>\n",
       "      <td>Julien Leclercq</td>\n",
       "      <td>Sami Bouajila, Tracy Gotoas, Samuel Jouy, Nabi...</td>\n",
       "      <td>NaN</td>\n",
       "      <td>September 24, 2021</td>\n",
       "      <td>2021</td>\n",
       "      <td>TV-MA</td>\n",
       "      <td>1 Season</td>\n",
       "      <td>Crime TV Shows, International TV Shows, TV Act...</td>\n",
       "      <td>To protect his family from a powerful drug lor...</td>\n",
       "    </tr>\n",
       "    <tr>\n",
       "      <th>3</th>\n",
       "      <td>s4</td>\n",
       "      <td>TV Show</td>\n",
       "      <td>Jailbirds New Orleans</td>\n",
       "      <td>NaN</td>\n",
       "      <td>NaN</td>\n",
       "      <td>NaN</td>\n",
       "      <td>September 24, 2021</td>\n",
       "      <td>2021</td>\n",
       "      <td>TV-MA</td>\n",
       "      <td>1 Season</td>\n",
       "      <td>Docuseries, Reality TV</td>\n",
       "      <td>Feuds, flirtations and toilet talk go down amo...</td>\n",
       "    </tr>\n",
       "    <tr>\n",
       "      <th>4</th>\n",
       "      <td>s5</td>\n",
       "      <td>TV Show</td>\n",
       "      <td>Kota Factory</td>\n",
       "      <td>NaN</td>\n",
       "      <td>Mayur More, Jitendra Kumar, Ranjan Raj, Alam K...</td>\n",
       "      <td>India</td>\n",
       "      <td>September 24, 2021</td>\n",
       "      <td>2021</td>\n",
       "      <td>TV-MA</td>\n",
       "      <td>2 Seasons</td>\n",
       "      <td>International TV Shows, Romantic TV Shows, TV ...</td>\n",
       "      <td>In a city of coaching centers known to train I...</td>\n",
       "    </tr>\n",
       "  </tbody>\n",
       "</table>\n",
       "</div>"
      ],
      "text/plain": [
       "  show_id     type                  title         director  \\\n",
       "0      s1    Movie   Dick Johnson Is Dead  Kirsten Johnson   \n",
       "1      s2  TV Show          Blood & Water              NaN   \n",
       "2      s3  TV Show              Ganglands  Julien Leclercq   \n",
       "3      s4  TV Show  Jailbirds New Orleans              NaN   \n",
       "4      s5  TV Show           Kota Factory              NaN   \n",
       "\n",
       "                                                cast        country  \\\n",
       "0                                                NaN  United States   \n",
       "1  Ama Qamata, Khosi Ngema, Gail Mabalane, Thaban...   South Africa   \n",
       "2  Sami Bouajila, Tracy Gotoas, Samuel Jouy, Nabi...            NaN   \n",
       "3                                                NaN            NaN   \n",
       "4  Mayur More, Jitendra Kumar, Ranjan Raj, Alam K...          India   \n",
       "\n",
       "           date_added  release_year rating   duration  \\\n",
       "0  September 25, 2021          2020  PG-13     90 min   \n",
       "1  September 24, 2021          2021  TV-MA  2 Seasons   \n",
       "2  September 24, 2021          2021  TV-MA   1 Season   \n",
       "3  September 24, 2021          2021  TV-MA   1 Season   \n",
       "4  September 24, 2021          2021  TV-MA  2 Seasons   \n",
       "\n",
       "                                           listed_in  \\\n",
       "0                                      Documentaries   \n",
       "1    International TV Shows, TV Dramas, TV Mysteries   \n",
       "2  Crime TV Shows, International TV Shows, TV Act...   \n",
       "3                             Docuseries, Reality TV   \n",
       "4  International TV Shows, Romantic TV Shows, TV ...   \n",
       "\n",
       "                                         description  \n",
       "0  As her father nears the end of his life, filmm...  \n",
       "1  After crossing paths at a party, a Cape Town t...  \n",
       "2  To protect his family from a powerful drug lor...  \n",
       "3  Feuds, flirtations and toilet talk go down amo...  \n",
       "4  In a city of coaching centers known to train I...  "
      ]
     },
     "metadata": {},
     "output_type": "display_data"
    },
    {
     "name": "stdout",
     "output_type": "stream",
     "text": [
      "Shape: (8807, 12)\n",
      "<class 'pandas.core.frame.DataFrame'>\n",
      "RangeIndex: 8807 entries, 0 to 8806\n",
      "Data columns (total 12 columns):\n",
      " #   Column        Non-Null Count  Dtype \n",
      "---  ------        --------------  ----- \n",
      " 0   show_id       8807 non-null   object\n",
      " 1   type          8807 non-null   object\n",
      " 2   title         8807 non-null   object\n",
      " 3   director      6173 non-null   object\n",
      " 4   cast          7982 non-null   object\n",
      " 5   country       7976 non-null   object\n",
      " 6   date_added    8797 non-null   object\n",
      " 7   release_year  8807 non-null   int64 \n",
      " 8   rating        8803 non-null   object\n",
      " 9   duration      8804 non-null   object\n",
      " 10  listed_in     8807 non-null   object\n",
      " 11  description   8807 non-null   object\n",
      "dtypes: int64(1), object(11)\n",
      "memory usage: 825.8+ KB\n",
      "None\n"
     ]
    }
   ],
   "source": [
    "display(df.head())\n",
    "print(f\"Shape: {df.shape}\")\n",
    "print(df.info())"
   ]
  },
  {
   "cell_type": "markdown",
   "id": "81e6001d-3322-45d3-9fb3-0b159392798c",
   "metadata": {},
   "source": [
    "- The dataset contains 8807 rows and 12 columns\n",
    "- Feature span identifiers, categorical fields (e.g., `type`, `rating`, `country`), temporal data (`date_added`, `release_year`), and descriptive text (`title`, `description`)"
   ]
  },
  {
   "cell_type": "markdown",
   "id": "7fdaebef-45fc-4277-8c1a-5a72db86fb64",
   "metadata": {},
   "source": [
    "#####\n",
    "#### Feature Dictionary\n",
    "\n",
    "Knowing what each feature represents helps interpret the data correctly and identify potential issues. Here’s a dictionary of all columns in the dataset.\n",
    "\n",
    "\n",
    "| Feature | Description | Category |\n",
    "|-----|-----|-----|\n",
    "| show_id | Unique identifier for each show of the dataset. | Identifier |\n",
    "| type | Type of content - either *Movie* or *TV show*. | Categorical |\n",
    "| title | Title of the movie or TV show. | Text |\n",
    "| director | Director of the content. | Categorical |\n",
    "| cast | Main actors/actresses featured in the content. | Text/Categorical |\n",
    "| country | Country (or countries) where the content was produced. | Categorical |\n",
    "| date_added | Date when the content was added to Netflix. | String |\n",
    "| release_year | Year the content was originally released. | Numerical (Integer) |\n",
    "| rating | Netflix maturity rating. | Categorical |\n",
    "| duration | Duration of the content - in minutes for Movies or in number of seasons for TV Shows. | String |\n",
    "| listed_in | Genres/Categories of the content (comma-separated list). | Categorical (Multi-label) |\n",
    "| description | Short summary of the content. | Text |"
   ]
  },
  {
   "cell_type": "markdown",
   "id": "e2bf3f8f-9e05-400d-a5d3-11b92f870c18",
   "metadata": {},
   "source": [
    "#####\n",
    "#### Missing Values\n",
    "\n",
    "Missing data can distort analysis if not handled properly. Let’s examine which features have missing values and their proportions."
   ]
  },
  {
   "cell_type": "code",
   "execution_count": 4,
   "id": "38625064-9f00-439a-b36a-716d56d9bdc4",
   "metadata": {},
   "outputs": [
    {
     "data": {
      "text/plain": [
       "director      2634\n",
       "cast           825\n",
       "country        831\n",
       "date_added      10\n",
       "rating           4\n",
       "duration         3\n",
       "dtype: int64"
      ]
     },
     "metadata": {},
     "output_type": "display_data"
    },
    {
     "data": {
      "text/plain": [
       "director      29.91\n",
       "cast           9.37\n",
       "country        9.44\n",
       "date_added     0.11\n",
       "rating         0.05\n",
       "duration       0.03\n",
       "dtype: float64"
      ]
     },
     "metadata": {},
     "output_type": "display_data"
    }
   ],
   "source": [
    "missing_count = df.isna().sum()\n",
    "missing_percent = round((missing_count/len(df))*100, 2)\n",
    "\n",
    "display(missing_count[missing_count != 0])\n",
    "display(missing_percent[missing_percent != 0])"
   ]
  },
  {
   "cell_type": "markdown",
   "id": "bbf427d6-ddf2-4b32-b68c-c68eb0e14156",
   "metadata": {},
   "source": [
    "- `director`: 2634 missing (~30%)\n",
    "- `cast`: 825 missing (~9%)\n",
    "- `country`: 831 missing (~9%)\n",
    "- `date_added`: 10 missing (<1%)\n",
    "- `rating`: 4 missing (<0.1%)\n",
    "- `duration`: 3 missing (<0.1%)\n",
    "\n",
    "\n",
    "As we can see, the `director` feature has a high percentage of missing values (~30%). Handling these missing entries by filling or imputing could significantly distort the dataset, introducing bias and making it no longer reflect reality. Therefore, for the purposes of this analysis, we will **leave the missing values in `director` as they are**. Same for `cast`\n",
    "\n",
    "\n",
    "The other columns have a relatively low percentage of missing data, and we will handle them as needed during the data cleaning phase.\n",
    "\n",
    "\n",
    "\n",
    "We can better visualize this missing values in the following heatmap:"
   ]
  },
  {
   "cell_type": "code",
   "execution_count": 5,
   "id": "b63a0e20-7d66-4480-b84c-5335da1f33ef",
   "metadata": {},
   "outputs": [
    {
     "data": {
      "image/png": "[encoded data removed]",
      "text/plain": [
       "<Figure size 1000x500 with 1 Axes>"
      ]
     },
     "metadata": {},
     "output_type": "display_data"
    }
   ],
   "source": [
    "plt.figure(figsize=(10,5))\n",
    "sns.heatmap(df.isna(), cbar=False)\n",
    "plt.title(\"Missing Values Heatmap (Before Cleaning)\")\n",
    "plt.show()"
   ]
  },
  {
   "cell_type": "markdown",
   "id": "875114c8-05a3-481e-a593-069532151604",
   "metadata": {},
   "source": [
    "The concentration of missingness in `director` and `cast` suggests this information was often unavailable at ingestion rather than lost later. Thus, treating them as `Unknown` preserves dataset fidelity."
   ]
  },
  {
   "cell_type": "markdown",
   "id": "c17527b6-6af9-475e-96eb-9c5b8aa6c79f",
   "metadata": {},
   "source": [
    "#####\n",
    "#### Duplicates\n",
    "\n",
    "Duplicate rows can bias summary statistics and visualizations. We check if any duplicate entries exist."
   ]
  },
  {
   "cell_type": "code",
   "execution_count": 6,
   "id": "73b0c430-a93e-495a-bdc1-2cc9ea9b5d13",
   "metadata": {},
   "outputs": [
    {
     "name": "stdout",
     "output_type": "stream",
     "text": [
      "Total duplicate rows: 0\n"
     ]
    }
   ],
   "source": [
    "duplicate_count = df.duplicated().sum()\n",
    "print(f\"Total duplicate rows: {duplicate_count}\")"
   ]
  },
  {
   "cell_type": "markdown",
   "id": "ab76289b-e634-46f4-b909-93192f842f0a",
   "metadata": {},
   "source": [
    "As there are no duplicate rows, **no further action is required** for duplicates."
   ]
  },
  {
   "cell_type": "markdown",
   "id": "676176a7-02b6-4cdf-ae10-c3867911d4a0",
   "metadata": {},
   "source": [
    "#####\n",
    "#### Descriptive Statistics (Numeric Features)\n",
    "\n",
    "Summary statistics provide insight into the distribution of numeric features and help identify outliers."
   ]
  },
  {
   "cell_type": "code",
   "execution_count": 7,
   "id": "090e3bc8-c4ef-4266-8cdb-b327b6f604d1",
   "metadata": {},
   "outputs": [
    {
     "data": {
      "text/html": [
       "<div>\n",
       "<style scoped>\n",
       "    .dataframe tbody tr th:only-of-type {\n",
       "        vertical-align: middle;\n",
       "    }\n",
       "\n",
       "    .dataframe tbody tr th {\n",
       "        vertical-align: top;\n",
       "    }\n",
       "\n",
       "    .dataframe thead th {\n",
       "        text-align: right;\n",
       "    }\n",
       "</style>\n",
       "<table border=\"1\" class=\"dataframe\">\n",
       "  <thead>\n",
       "    <tr style=\"text-align: right;\">\n",
       "      <th></th>\n",
       "      <th>release_year</th>\n",
       "    </tr>\n",
       "  </thead>\n",
       "  <tbody>\n",
       "    <tr>\n",
       "      <th>count</th>\n",
       "      <td>8807.000000</td>\n",
       "    </tr>\n",
       "    <tr>\n",
       "      <th>mean</th>\n",
       "      <td>2014.180198</td>\n",
       "    </tr>\n",
       "    <tr>\n",
       "      <th>std</th>\n",
       "      <td>8.819312</td>\n",
       "    </tr>\n",
       "    <tr>\n",
       "      <th>min</th>\n",
       "      <td>1925.000000</td>\n",
       "    </tr>\n",
       "    <tr>\n",
       "      <th>25%</th>\n",
       "      <td>2013.000000</td>\n",
       "    </tr>\n",
       "    <tr>\n",
       "      <th>50%</th>\n",
       "      <td>2017.000000</td>\n",
       "    </tr>\n",
       "    <tr>\n",
       "      <th>75%</th>\n",
       "      <td>2019.000000</td>\n",
       "    </tr>\n",
       "    <tr>\n",
       "      <th>max</th>\n",
       "      <td>2021.000000</td>\n",
       "    </tr>\n",
       "  </tbody>\n",
       "</table>\n",
       "</div>"
      ],
      "text/plain": [
       "       release_year\n",
       "count   8807.000000\n",
       "mean    2014.180198\n",
       "std        8.819312\n",
       "min     1925.000000\n",
       "25%     2013.000000\n",
       "50%     2017.000000\n",
       "75%     2019.000000\n",
       "max     2021.000000"
      ]
     },
     "execution_count": 7,
     "metadata": {},
     "output_type": "execute_result"
    }
   ],
   "source": [
    "df[['release_year']].describe()"
   ]
  },
  {
   "cell_type": "markdown",
   "id": "fa6bf00d-520e-4f5b-9fb0-fc82bbfec107",
   "metadata": {},
   "source": [
    "- `release_year` ranges from 1925 to 2021.\n",
    "- Very old entries (e.g., 1920s–1940s) likely represent *restored classics* but are statistical outliers."
   ]
  },
  {
   "cell_type": "code",
   "execution_count": 8,
   "id": "3e6bc6f0-9a4f-4926-a57c-ab9e1745414a",
   "metadata": {},
   "outputs": [
    {
     "data": {
      "image/png": "[encoded data removed]",
      "text/plain": [
       "<Figure size 800x300 with 1 Axes>"
      ]
     },
     "metadata": {},
     "output_type": "display_data"
    }
   ],
   "source": [
    "df['release_year'].plot(kind=\"box\", figsize=(8,3))\n",
    "plt.title(\"Release Year Boxplot (Before Cleaning)\")\n",
    "plt.show()"
   ]
  },
  {
   "cell_type": "markdown",
   "id": "2406ad7b-dd53-4355-a972-b8d7d2a32e3e",
   "metadata": {},
   "source": [
    "- Boxplot shows heavy left-skew due to historical outliers (1920s–40s).\n",
    "- Median clustered around 2015–2018, consistent with Netflix’s recent content expansion."
   ]
  },
  {
   "cell_type": "markdown",
   "id": "33574f8e-3273-40bc-bd02-0e2694b0458e",
   "metadata": {},
   "source": [
    "#####\n",
    "#### Duration Anomalies\n",
    "\n",
    "The `duration` feature is particularly tricky because it contains both movies and TV shows. Let’s investigate inconsistencies."
   ]
  },
  {
   "cell_type": "code",
   "execution_count": 9,
   "id": "4d8285b9-f359-4cff-a27f-f310bc239179",
   "metadata": {},
   "outputs": [
    {
     "data": {
      "text/plain": [
       "duration\n",
       "1 Season     1793\n",
       "2 Seasons     425\n",
       "3 Seasons     199\n",
       "90 min        152\n",
       "97 min        146\n",
       "94 min        146\n",
       "93 min        146\n",
       "91 min        144\n",
       "95 min        137\n",
       "96 min        130\n",
       "92 min        129\n",
       "102 min       122\n",
       "98 min        120\n",
       "99 min        118\n",
       "88 min        116\n",
       "101 min       116\n",
       "103 min       114\n",
       "106 min       111\n",
       "100 min       108\n",
       "89 min        106\n",
       "Name: count, dtype: int64"
      ]
     },
     "execution_count": 9,
     "metadata": {},
     "output_type": "execute_result"
    }
   ],
   "source": [
    "df['duration'].value_counts().head(20)"
   ]
  },
  {
   "cell_type": "markdown",
   "id": "687539c4-308c-4941-a0c6-1850f26613e8",
   "metadata": {},
   "source": [
    "- Contains both formats: `\"93 min\"` (movies) and `\"3 Seasons\"` (TV shows).\n",
    "- Some durations are misplaced in the `rating` column (e.g., `\"74 min\"`).\n",
    "\n",
    "\n",
    "This heterogeneity arises because movies and TV shows share the same schema. We will normalize them separately during preprocessing.\n",
    "\n",
    "\n",
    "**Reflection**:\n",
    "The mixed formatting and misplacements make `duration` unusable in raw form. We will later convert it to numeric floats (minutes for movies, seasons for TV) and reassign misplaced values."
   ]
  },
  {
   "cell_type": "markdown",
   "id": "aae3e6c5-0b6e-4699-aaaa-6dd4ca701ff8",
   "metadata": {},
   "source": [
    "#####\n",
    "#### Rating Inconsistencies\n",
    "\n",
    "Netflix ratings come from multiple systems and sometimes contain errors. Detecting these early is crucial for reliable analysis."
   ]
  },
  {
   "cell_type": "code",
   "execution_count": 10,
   "id": "068133ea-bfe1-4a10-9ca4-b8f3863e1e7f",
   "metadata": {},
   "outputs": [
    {
     "data": {
      "text/plain": [
       "rating\n",
       "TV-MA       3207\n",
       "TV-14       2160\n",
       "TV-PG        863\n",
       "R            799\n",
       "PG-13        490\n",
       "TV-Y7        334\n",
       "TV-Y         307\n",
       "PG           287\n",
       "TV-G         220\n",
       "NR            80\n",
       "G             41\n",
       "TV-Y7-FV       6\n",
       "NC-17          3\n",
       "UR             3\n",
       "74 min         1\n",
       "Name: count, dtype: int64"
      ]
     },
     "execution_count": 10,
     "metadata": {},
     "output_type": "execute_result"
    }
   ],
   "source": [
    "df['rating'].value_counts().head(15)"
   ]
  },
  {
   "cell_type": "markdown",
   "id": "0ab3f66b-b60c-4737-8a9e-5db62f50232e",
   "metadata": {},
   "source": [
    "- Inconsistent categories: `\"TV-MA\"`, `\"PG-13\"`, `\"UR\"`, `\"TV-Y7-FV\"`, and even durations like `\"74 min\"`.\n",
    "- Duplicates across systems (`\"UR\"` vs `\"NR\"`, `\"G\"` vs `\"TV-G\"`).\n",
    "\n",
    "The coexistence of MPAA (`PG-13`, `R`), TV Parental Guidelines (`TV-MA`, `TV-Y7`), and malformed entries (`66 min`) highlights schema drift. Without normalization, cross-type analysis (movies vs. TV shows) would be misleading.\n",
    "\n",
    "**Reflection**:\n",
    "This prevents meaningful aggregation. Later, `ratings` will be standardized into an ordered categorical scale spanning from child-friendly to adult-only."
   ]
  },
  {
   "cell_type": "markdown",
   "id": "39475a61-e86d-468a-851a-7f5a953f5625",
   "metadata": {},
   "source": [
    "#####\n",
    "#### Country Entries\n",
    "\n",
    "Some titles are produced in multiple countries. Understanding this helps us handle multi-valued categorical data correctly."
   ]
  },
  {
   "cell_type": "code",
   "execution_count": 11,
   "id": "f9f18fc8-5b67-448a-8173-b51e8b80e98e",
   "metadata": {},
   "outputs": [
    {
     "data": {
      "text/plain": [
       "6570    United Kingdom, United States\n",
       "2434                            Egypt\n",
       "2825                    United States\n",
       "5218                      New Zealand\n",
       "2576                    United States\n",
       "Name: country, dtype: object"
      ]
     },
     "execution_count": 11,
     "metadata": {},
     "output_type": "execute_result"
    }
   ],
   "source": [
    "df['country'].sample(5)"
   ]
  },
  {
   "cell_type": "code",
   "execution_count": 12,
   "id": "69ef2243-b94f-4a3e-97e3-3e9d6b9cf016",
   "metadata": {},
   "outputs": [
    {
     "name": "stdout",
     "output_type": "stream",
     "text": [
      "16.55\n"
     ]
    }
   ],
   "source": [
    "print(round(df['country'].str.contains(\",\").mean()*100,2))"
   ]
  },
  {
   "cell_type": "markdown",
   "id": "dba1f403-026d-42a2-967d-3f7a711a2f6f",
   "metadata": {},
   "source": [
    "- ≈ 15% of entries involve co-productions (multiple countries). This motivates splitting into lists rather than forcing a single country per row.\n",
    "- `\"Unknown\"` values are also common.\n",
    "\n",
    "**Reflection**:\n",
    "This prevents direct grouping or counting. We will later split these into lists while preserving `\"Unknown\"`."
   ]
  },
  {
   "cell_type": "markdown",
   "id": "ca862c35-b04c-40b3-82c4-7006ea1def7f",
   "metadata": {},
   "source": [
    "#####\n",
    "#### Listed_in\n",
    "\n",
    "Titles are often tagged with multiple genres. Exploring these will inform how we preprocess the data for multi-label analysis."
   ]
  },
  {
   "cell_type": "code",
   "execution_count": 13,
   "id": "02263b6a-0c49-4bfb-8c42-ead0114f06f1",
   "metadata": {},
   "outputs": [
    {
     "data": {
      "text/plain": [
       "6053    Children & Family Movies, Dramas, Romantic Movies\n",
       "4186                         Dramas, International Movies\n",
       "210                   Horror Movies, International Movies\n",
       "2219                      Documentaries, Music & Musicals\n",
       "3257    International TV Shows, Romantic TV Shows, TV ...\n",
       "Name: listed_in, dtype: object"
      ]
     },
     "execution_count": 13,
     "metadata": {},
     "output_type": "execute_result"
    }
   ],
   "source": [
    "df['listed_in'].sample(5)"
   ]
  },
  {
   "cell_type": "code",
   "execution_count": 14,
   "id": "67a3c591-e082-4ec4-84e4-f73ce9d37c3d",
   "metadata": {},
   "outputs": [
    {
     "name": "stdout",
     "output_type": "stream",
     "text": [
      "0.77\n"
     ]
    }
   ],
   "source": [
    "print(round(df['listed_in'].str.contains(\",\").mean(),2))"
   ]
  },
  {
   "cell_type": "markdown",
   "id": "b03455cf-938a-4e4e-b85e-c350e20b24fb",
   "metadata": {},
   "source": [
    "- The majority of titles are tagged with 2–3 genres. Keeping them as lists will allow multi-label analysis (e.g., how often “Comedies” co-occur with “Romance”).\n",
    "- Values are long comma-separated strings, e.g.: `\"Dramas, International Movies, Independent Movies\"`.\n",
    "\n",
    "\n",
    "**Reflection**:\n",
    "This makes genre analysis difficult. We will rename this column to `genres` and split values into lists."
   ]
  },
  {
   "cell_type": "markdown",
   "id": "151d2f1f-d4c9-44c4-92a6-caa2cf31303b",
   "metadata": {},
   "source": [
    "#####\n",
    "#### Histograms (Key Variables)\n",
    "\n",
    "Finally, we visualize key variables to get a sense of distributions, trends, and potential anomalies before cleaning."
   ]
  },
  {
   "cell_type": "code",
   "execution_count": 15,
   "id": "dfc4e15e-fcd1-438e-ac84-207c11175900",
   "metadata": {},
   "outputs": [
    {
     "data": {
      "image/png": "[encoded data removed]",
      "text/plain": [
       "<Figure size 1200x500 with 2 Axes>"
      ]
     },
     "metadata": {},
     "output_type": "display_data"
    },
    {
     "data": {
      "image/png": "[encoded data removed]",
      "text/plain": [
       "<Figure size 1200x600 with 1 Axes>"
      ]
     },
     "metadata": {},
     "output_type": "display_data"
    }
   ],
   "source": [
    "fig, axes = plt.subplots(1, 2, figsize=(12,5))\n",
    "\n",
    "df['release_year'].hist(ax=axes[0], bins=40)\n",
    "axes[0].set_title(\"Release Year Distribution\")\n",
    "\n",
    "df['rating'].value_counts().head(15).plot(kind='bar', ax=axes[1])\n",
    "axes[1].set_title(\"Top Rating Categories (Before Cleaning)\")\n",
    "\n",
    "plt.tight_layout()\n",
    "plt.show()\n",
    "\n",
    "plt.figure(figsize=(12,6))\n",
    "sns.heatmap(df.isna(), cbar=False, cmap=\"viridis\")\n",
    "plt.title(\"Missing Values Heatmap (Before Cleaning)\")\n",
    "plt.show()"
   ]
  },
  {
   "cell_type": "markdown",
   "id": "e2ff27eb-7070-4e3e-93c0-c326722ae363",
   "metadata": {},
   "source": [
    "The column `date_added` is still stored as a string, so its temporal distribution cannot yet be visualized.\n",
    "\n",
    "This will be corrected when we convert it to datetime during preprocessing."
   ]
  },
  {
   "cell_type": "markdown",
   "id": "c3eb5c38-1626-4f89-99a1-3aff9a31f013",
   "metadata": {},
   "source": [
    "#####\n",
    "#### Summary of key issues\n",
    "- Significant missingness in `director`, moderate missingness in `cast` and `country`.\n",
    "- Inconsistent rating systems + misplaced durations.\n",
    "- Mixed `duration` formats and misplacements.\n",
    "- Multi-valued text fields (`country`, `listed_in`) not yet usable for grouping.\n",
    "- Outliers in `release_year` (1920s–40s).\n",
    "- `date_added` not yet in datetime format.\n",
    "\n",
    "These issues will be systematically addressed in the Data Cleaning & Preprocessing section.\n",
    "\n",
    "###"
   ]
  },
  {
   "cell_type": "markdown",
   "id": "acf81e43-f752-487f-bbc4-490fd62028b4",
   "metadata": {},
   "source": [
    "### 2.2. Data Cleaning & Preprocessing\n",
    "\n",
    "#### 2.2.1. Handle Missing Values & Convert Types"
   ]
  },
  {
   "cell_type": "markdown",
   "id": "a6858e53-c0e4-4ea5-b6d1-36283521d984",
   "metadata": {},
   "source": [
    "We start by handling missing values. Features such as `director`, `cast`, and `country` have missing entries. Imputing them with guesses could introduce bias, so we fill them with `Unknown`. Retaining `Unknown` also preserves the fact that data was missing, which can be insightful later."
   ]
  },
  {
   "cell_type": "code",
   "execution_count": 16,
   "id": "5e7f1043-e46c-465e-a1c4-bb2521ec685d",
   "metadata": {},
   "outputs": [
    {
     "data": {
      "text/plain": [
       "date_added    10\n",
       "rating         4\n",
       "duration       3\n",
       "dtype: int64"
      ]
     },
     "metadata": {},
     "output_type": "display_data"
    }
   ],
   "source": [
    "df['director'] = df['director'].fillna('Unknown')\n",
    "df['cast'] = df['cast'].fillna('Unknown')\n",
    "df['country'] = df['country'].fillna('Unknown')\n",
    "\n",
    "display(df.isna().sum()[df.isna().sum()!=0])"
   ]
  },
  {
   "cell_type": "markdown",
   "id": "a308dd38-edec-4fbd-bb07-2a9fc58c9d79",
   "metadata": {},
   "source": [
    "Next, we handle `date_added`, `rating`, and `duration`. Converting these features to the correct types ensures easier analysis and reliable handling of values."
   ]
  },
  {
   "cell_type": "code",
   "execution_count": 17,
   "id": "550c0a82-33b1-46f0-9b43-09f788bbfa56",
   "metadata": {},
   "outputs": [
    {
     "name": "stdout",
     "output_type": "stream",
     "text": [
      "<class 'pandas.core.frame.DataFrame'>\n",
      "RangeIndex: 8807 entries, 0 to 8806\n",
      "Data columns (total 12 columns):\n",
      " #   Column        Non-Null Count  Dtype         \n",
      "---  ------        --------------  -----         \n",
      " 0   show_id       8807 non-null   object        \n",
      " 1   type          8807 non-null   object        \n",
      " 2   title         8807 non-null   object        \n",
      " 3   director      8807 non-null   object        \n",
      " 4   cast          8807 non-null   object        \n",
      " 5   country       8807 non-null   object        \n",
      " 6   date_added    8797 non-null   datetime64[ns]\n",
      " 7   release_year  8807 non-null   int64         \n",
      " 8   rating        8803 non-null   object        \n",
      " 9   duration      8804 non-null   object        \n",
      " 10  listed_in     8807 non-null   object        \n",
      " 11  description   8807 non-null   object        \n",
      "dtypes: datetime64[ns](1), int64(1), object(10)\n",
      "memory usage: 825.8+ KB\n"
     ]
    }
   ],
   "source": [
    "df['date_added'] = df['date_added'].astype(str).str.strip()\n",
    "df['date_added'] = pd.to_datetime(df['date_added'], errors='coerce')\n",
    "df['release_year'] = df['release_year'].astype(int)\n",
    "\n",
    "df.info()"
   ]
  },
  {
   "cell_type": "markdown",
   "id": "690eb4f9-ff92-4dde-968a-e6003462b250",
   "metadata": {},
   "source": [
    "##### Splitting Dataset by Type \n",
    "Some features behave differently for TV Shows and Movies, so we **split the dataset** into two separate DataFrames. This allows us to handle missing values, data quality, and feature-specific transformations more effectively."
   ]
  },
  {
   "cell_type": "code",
   "execution_count": 18,
   "id": "d7cba098-17dd-4573-b03e-4c6998890beb",
   "metadata": {},
   "outputs": [
    {
     "name": "stdout",
     "output_type": "stream",
     "text": [
      "TV Series Dataframe:\n"
     ]
    },
    {
     "data": {
      "text/html": [
       "<div>\n",
       "<style scoped>\n",
       "    .dataframe tbody tr th:only-of-type {\n",
       "        vertical-align: middle;\n",
       "    }\n",
       "\n",
       "    .dataframe tbody tr th {\n",
       "        vertical-align: top;\n",
       "    }\n",
       "\n",
       "    .dataframe thead th {\n",
       "        text-align: right;\n",
       "    }\n",
       "</style>\n",
       "<table border=\"1\" class=\"dataframe\">\n",
       "  <thead>\n",
       "    <tr style=\"text-align: right;\">\n",
       "      <th></th>\n",
       "      <th>show_id</th>\n",
       "      <th>type</th>\n",
       "      <th>title</th>\n",
       "      <th>director</th>\n",
       "      <th>cast</th>\n",
       "      <th>country</th>\n",
       "      <th>date_added</th>\n",
       "      <th>release_year</th>\n",
       "      <th>rating</th>\n",
       "      <th>duration</th>\n",
       "      <th>listed_in</th>\n",
       "      <th>description</th>\n",
       "    </tr>\n",
       "  </thead>\n",
       "  <tbody>\n",
       "    <tr>\n",
       "      <th>1</th>\n",
       "      <td>s2</td>\n",
       "      <td>TV Show</td>\n",
       "      <td>Blood &amp; Water</td>\n",
       "      <td>Unknown</td>\n",
       "      <td>Ama Qamata, Khosi Ngema, Gail Mabalane, Thaban...</td>\n",
       "      <td>South Africa</td>\n",
       "      <td>2021-09-24</td>\n",
       "      <td>2021</td>\n",
       "      <td>TV-MA</td>\n",
       "      <td>2 Seasons</td>\n",
       "      <td>International TV Shows, TV Dramas, TV Mysteries</td>\n",
       "      <td>After crossing paths at a party, a Cape Town t...</td>\n",
       "    </tr>\n",
       "    <tr>\n",
       "      <th>2</th>\n",
       "      <td>s3</td>\n",
       "      <td>TV Show</td>\n",
       "      <td>Ganglands</td>\n",
       "      <td>Julien Leclercq</td>\n",
       "      <td>Sami Bouajila, Tracy Gotoas, Samuel Jouy, Nabi...</td>\n",
       "      <td>Unknown</td>\n",
       "      <td>2021-09-24</td>\n",
       "      <td>2021</td>\n",
       "      <td>TV-MA</td>\n",
       "      <td>1 Season</td>\n",
       "      <td>Crime TV Shows, International TV Shows, TV Act...</td>\n",
       "      <td>To protect his family from a powerful drug lor...</td>\n",
       "    </tr>\n",
       "    <tr>\n",
       "      <th>3</th>\n",
       "      <td>s4</td>\n",
       "      <td>TV Show</td>\n",
       "      <td>Jailbirds New Orleans</td>\n",
       "      <td>Unknown</td>\n",
       "      <td>Unknown</td>\n",
       "      <td>Unknown</td>\n",
       "      <td>2021-09-24</td>\n",
       "      <td>2021</td>\n",
       "      <td>TV-MA</td>\n",
       "      <td>1 Season</td>\n",
       "      <td>Docuseries, Reality TV</td>\n",
       "      <td>Feuds, flirtations and toilet talk go down amo...</td>\n",
       "    </tr>\n",
       "    <tr>\n",
       "      <th>4</th>\n",
       "      <td>s5</td>\n",
       "      <td>TV Show</td>\n",
       "      <td>Kota Factory</td>\n",
       "      <td>Unknown</td>\n",
       "      <td>Mayur More, Jitendra Kumar, Ranjan Raj, Alam K...</td>\n",
       "      <td>India</td>\n",
       "      <td>2021-09-24</td>\n",
       "      <td>2021</td>\n",
       "      <td>TV-MA</td>\n",
       "      <td>2 Seasons</td>\n",
       "      <td>International TV Shows, Romantic TV Shows, TV ...</td>\n",
       "      <td>In a city of coaching centers known to train I...</td>\n",
       "    </tr>\n",
       "    <tr>\n",
       "      <th>5</th>\n",
       "      <td>s6</td>\n",
       "      <td>TV Show</td>\n",
       "      <td>Midnight Mass</td>\n",
       "      <td>Mike Flanagan</td>\n",
       "      <td>Kate Siegel, Zach Gilford, Hamish Linklater, H...</td>\n",
       "      <td>Unknown</td>\n",
       "      <td>2021-09-24</td>\n",
       "      <td>2021</td>\n",
       "      <td>TV-MA</td>\n",
       "      <td>1 Season</td>\n",
       "      <td>TV Dramas, TV Horror, TV Mysteries</td>\n",
       "      <td>The arrival of a charismatic young priest brin...</td>\n",
       "    </tr>\n",
       "  </tbody>\n",
       "</table>\n",
       "</div>"
      ],
      "text/plain": [
       "  show_id     type                  title         director  \\\n",
       "1      s2  TV Show          Blood & Water          Unknown   \n",
       "2      s3  TV Show              Ganglands  Julien Leclercq   \n",
       "3      s4  TV Show  Jailbirds New Orleans          Unknown   \n",
       "4      s5  TV Show           Kota Factory          Unknown   \n",
       "5      s6  TV Show          Midnight Mass    Mike Flanagan   \n",
       "\n",
       "                                                cast       country date_added  \\\n",
       "1  Ama Qamata, Khosi Ngema, Gail Mabalane, Thaban...  South Africa 2021-09-24   \n",
       "2  Sami Bouajila, Tracy Gotoas, Samuel Jouy, Nabi...       Unknown 2021-09-24   \n",
       "3                                            Unknown       Unknown 2021-09-24   \n",
       "4  Mayur More, Jitendra Kumar, Ranjan Raj, Alam K...         India 2021-09-24   \n",
       "5  Kate Siegel, Zach Gilford, Hamish Linklater, H...       Unknown 2021-09-24   \n",
       "\n",
       "   release_year rating   duration  \\\n",
       "1          2021  TV-MA  2 Seasons   \n",
       "2          2021  TV-MA   1 Season   \n",
       "3          2021  TV-MA   1 Season   \n",
       "4          2021  TV-MA  2 Seasons   \n",
       "5          2021  TV-MA   1 Season   \n",
       "\n",
       "                                           listed_in  \\\n",
       "1    International TV Shows, TV Dramas, TV Mysteries   \n",
       "2  Crime TV Shows, International TV Shows, TV Act...   \n",
       "3                             Docuseries, Reality TV   \n",
       "4  International TV Shows, Romantic TV Shows, TV ...   \n",
       "5                 TV Dramas, TV Horror, TV Mysteries   \n",
       "\n",
       "                                         description  \n",
       "1  After crossing paths at a party, a Cape Town t...  \n",
       "2  To protect his family from a powerful drug lor...  \n",
       "3  Feuds, flirtations and toilet talk go down amo...  \n",
       "4  In a city of coaching centers known to train I...  \n",
       "5  The arrival of a charismatic young priest brin...  "
      ]
     },
     "metadata": {},
     "output_type": "display_data"
    },
    {
     "name": "stdout",
     "output_type": "stream",
     "text": [
      "\n",
      "\n",
      "\n",
      "\n",
      "Movies Dataframe:\n"
     ]
    },
    {
     "data": {
      "text/html": [
       "<div>\n",
       "<style scoped>\n",
       "    .dataframe tbody tr th:only-of-type {\n",
       "        vertical-align: middle;\n",
       "    }\n",
       "\n",
       "    .dataframe tbody tr th {\n",
       "        vertical-align: top;\n",
       "    }\n",
       "\n",
       "    .dataframe thead th {\n",
       "        text-align: right;\n",
       "    }\n",
       "</style>\n",
       "<table border=\"1\" class=\"dataframe\">\n",
       "  <thead>\n",
       "    <tr style=\"text-align: right;\">\n",
       "      <th></th>\n",
       "      <th>show_id</th>\n",
       "      <th>type</th>\n",
       "      <th>title</th>\n",
       "      <th>director</th>\n",
       "      <th>cast</th>\n",
       "      <th>country</th>\n",
       "      <th>date_added</th>\n",
       "      <th>release_year</th>\n",
       "      <th>rating</th>\n",
       "      <th>duration</th>\n",
       "      <th>listed_in</th>\n",
       "      <th>description</th>\n",
       "    </tr>\n",
       "  </thead>\n",
       "  <tbody>\n",
       "    <tr>\n",
       "      <th>0</th>\n",
       "      <td>s1</td>\n",
       "      <td>Movie</td>\n",
       "      <td>Dick Johnson Is Dead</td>\n",
       "      <td>Kirsten Johnson</td>\n",
       "      <td>Unknown</td>\n",
       "      <td>United States</td>\n",
       "      <td>2021-09-25</td>\n",
       "      <td>2020</td>\n",
       "      <td>PG-13</td>\n",
       "      <td>90 min</td>\n",
       "      <td>Documentaries</td>\n",
       "      <td>As her father nears the end of his life, filmm...</td>\n",
       "    </tr>\n",
       "    <tr>\n",
       "      <th>6</th>\n",
       "      <td>s7</td>\n",
       "      <td>Movie</td>\n",
       "      <td>My Little Pony: A New Generation</td>\n",
       "      <td>Robert Cullen, José Luis Ucha</td>\n",
       "      <td>Vanessa Hudgens, Kimiko Glenn, James Marsden, ...</td>\n",
       "      <td>Unknown</td>\n",
       "      <td>2021-09-24</td>\n",
       "      <td>2021</td>\n",
       "      <td>PG</td>\n",
       "      <td>91 min</td>\n",
       "      <td>Children &amp; Family Movies</td>\n",
       "      <td>Equestria's divided. But a bright-eyed hero be...</td>\n",
       "    </tr>\n",
       "    <tr>\n",
       "      <th>7</th>\n",
       "      <td>s8</td>\n",
       "      <td>Movie</td>\n",
       "      <td>Sankofa</td>\n",
       "      <td>Haile Gerima</td>\n",
       "      <td>Kofi Ghanaba, Oyafunmike Ogunlano, Alexandra D...</td>\n",
       "      <td>United States, Ghana, Burkina Faso, United Kin...</td>\n",
       "      <td>2021-09-24</td>\n",
       "      <td>1993</td>\n",
       "      <td>TV-MA</td>\n",
       "      <td>125 min</td>\n",
       "      <td>Dramas, Independent Movies, International Movies</td>\n",
       "      <td>On a photo shoot in Ghana, an American model s...</td>\n",
       "    </tr>\n",
       "    <tr>\n",
       "      <th>9</th>\n",
       "      <td>s10</td>\n",
       "      <td>Movie</td>\n",
       "      <td>The Starling</td>\n",
       "      <td>Theodore Melfi</td>\n",
       "      <td>Melissa McCarthy, Chris O'Dowd, Kevin Kline, T...</td>\n",
       "      <td>United States</td>\n",
       "      <td>2021-09-24</td>\n",
       "      <td>2021</td>\n",
       "      <td>PG-13</td>\n",
       "      <td>104 min</td>\n",
       "      <td>Comedies, Dramas</td>\n",
       "      <td>A woman adjusting to life after a loss contend...</td>\n",
       "    </tr>\n",
       "    <tr>\n",
       "      <th>12</th>\n",
       "      <td>s13</td>\n",
       "      <td>Movie</td>\n",
       "      <td>Je Suis Karl</td>\n",
       "      <td>Christian Schwochow</td>\n",
       "      <td>Luna Wedler, Jannis Niewöhner, Milan Peschel, ...</td>\n",
       "      <td>Germany, Czech Republic</td>\n",
       "      <td>2021-09-23</td>\n",
       "      <td>2021</td>\n",
       "      <td>TV-MA</td>\n",
       "      <td>127 min</td>\n",
       "      <td>Dramas, International Movies</td>\n",
       "      <td>After most of her family is murdered in a terr...</td>\n",
       "    </tr>\n",
       "  </tbody>\n",
       "</table>\n",
       "</div>"
      ],
      "text/plain": [
       "   show_id   type                             title  \\\n",
       "0       s1  Movie              Dick Johnson Is Dead   \n",
       "6       s7  Movie  My Little Pony: A New Generation   \n",
       "7       s8  Movie                           Sankofa   \n",
       "9      s10  Movie                      The Starling   \n",
       "12     s13  Movie                      Je Suis Karl   \n",
       "\n",
       "                         director  \\\n",
       "0                 Kirsten Johnson   \n",
       "6   Robert Cullen, José Luis Ucha   \n",
       "7                    Haile Gerima   \n",
       "9                  Theodore Melfi   \n",
       "12            Christian Schwochow   \n",
       "\n",
       "                                                 cast  \\\n",
       "0                                             Unknown   \n",
       "6   Vanessa Hudgens, Kimiko Glenn, James Marsden, ...   \n",
       "7   Kofi Ghanaba, Oyafunmike Ogunlano, Alexandra D...   \n",
       "9   Melissa McCarthy, Chris O'Dowd, Kevin Kline, T...   \n",
       "12  Luna Wedler, Jannis Niewöhner, Milan Peschel, ...   \n",
       "\n",
       "                                              country date_added  \\\n",
       "0                                       United States 2021-09-25   \n",
       "6                                             Unknown 2021-09-24   \n",
       "7   United States, Ghana, Burkina Faso, United Kin... 2021-09-24   \n",
       "9                                       United States 2021-09-24   \n",
       "12                            Germany, Czech Republic 2021-09-23   \n",
       "\n",
       "    release_year rating duration  \\\n",
       "0           2020  PG-13   90 min   \n",
       "6           2021     PG   91 min   \n",
       "7           1993  TV-MA  125 min   \n",
       "9           2021  PG-13  104 min   \n",
       "12          2021  TV-MA  127 min   \n",
       "\n",
       "                                           listed_in  \\\n",
       "0                                      Documentaries   \n",
       "6                           Children & Family Movies   \n",
       "7   Dramas, Independent Movies, International Movies   \n",
       "9                                   Comedies, Dramas   \n",
       "12                      Dramas, International Movies   \n",
       "\n",
       "                                          description  \n",
       "0   As her father nears the end of his life, filmm...  \n",
       "6   Equestria's divided. But a bright-eyed hero be...  \n",
       "7   On a photo shoot in Ghana, an American model s...  \n",
       "9   A woman adjusting to life after a loss contend...  \n",
       "12  After most of her family is murdered in a terr...  "
      ]
     },
     "metadata": {},
     "output_type": "display_data"
    },
    {
     "name": "stdout",
     "output_type": "stream",
     "text": [
      "TV series missing values:\n",
      "date_added    10\n",
      "rating         2\n",
      "dtype: int64\n",
      "\n",
      "Movies missing values:\n",
      "rating      2\n",
      "duration    3\n",
      "dtype: int64\n"
     ]
    }
   ],
   "source": [
    "tv_series_df = df[df['type']==\"TV Show\"].copy()\n",
    "movies_df = df[df['type']==\"Movie\"].copy()\n",
    "\n",
    "print(\"TV Series Dataframe:\")\n",
    "display(tv_series_df.head())\n",
    "\n",
    "print(\"\\n\\n\\n\\nMovies Dataframe:\")\n",
    "display(movies_df.head())\n",
    "\n",
    "print(\"TV series missing values:\")\n",
    "print(tv_series_df.isna().sum()[tv_series_df.isna().sum()!=0])\n",
    "\n",
    "print(\"\\nMovies missing values:\")\n",
    "print(movies_df.isna().sum()[movies_df.isna().sum()!=0])"
   ]
  },
  {
   "cell_type": "markdown",
   "id": "7ab09440-a3f3-4995-a87e-ed8ae2783ff6",
   "metadata": {},
   "source": [
    "##### Handling TV Series Dataframe Missing Values\n",
    "\n",
    "We'll start by handling missing data for TV Series.\n",
    "\n",
    "For the date_added column, some values are missing or inconsistent.\n",
    "\n",
    "- First, we sort by release_year to maintain chronological order.\n",
    "- Then, we interpolate missing dates linearly.\n",
    "- This may create some “impossible” dates (where date_added < release_year), which we handle in the next step."
   ]
  },
  {
   "cell_type": "code",
   "execution_count": 19,
   "id": "edce4d00-78a4-43ad-a689-1e1659cbc141",
   "metadata": {},
   "outputs": [],
   "source": [
    "tv_series_df=tv_series_df.sort_values(by='release_year')\n",
    "\n",
    "tv_series_df['date_added_temp']=tv_series_df['date_added'].map(lambda x: x.timestamp() if pd.notna(x) else np.nan)\n",
    "tv_series_df['date_added_temp']=tv_series_df['date_added_temp'].interpolate(method='linear')\n",
    "\n",
    "tv_series_df['date_added'] = pd.to_datetime(tv_series_df['date_added_temp'], unit='s')\n",
    "tv_series_df['date_added'] = tv_series_df['date_added'].dt.strftime('%Y-%m-%d')\n",
    "tv_series_df = tv_series_df.drop(columns='date_added_temp')"
   ]
  },
  {
   "cell_type": "markdown",
   "id": "578d8606-378c-4897-80be-a067592114c1",
   "metadata": {},
   "source": [
    "After ensuring that `date_added` is properly handled, we address missing values in the `rating` column.\n",
    "\n",
    "Approach chosen:\n",
    "- Fill missing values with a random valid rating from the dataset.\n",
    "- This preserves the overall distribution of ratings without biasing toward a single value.\n",
    "- A random seed is set to ensure reproducibility.\n",
    "- Since only a small fraction of rows have missing ratings, this approach is appropriate and avoids overcomplicating the pipeline."
   ]
  },
  {
   "cell_type": "code",
   "execution_count": 20,
   "id": "6c4d885d-cc47-44b2-b27f-588b40da5e2f",
   "metadata": {},
   "outputs": [
    {
     "name": "stdout",
     "output_type": "stream",
     "text": [
      "Series([], dtype: int64)\n"
     ]
    }
   ],
   "source": [
    "choices = tv_series_df['rating'].dropna().unique().tolist()\n",
    "np.random.seed(42)\n",
    "tv_series_df['rating'] = tv_series_df['rating'].apply(\n",
    "    lambda x: np.random.choice(choices) if pd.isna(x) else x\n",
    ")\n",
    "print(tv_series_df.isna().sum()[tv_series_df.isna().sum()!=0])"
   ]
  },
  {
   "cell_type": "markdown",
   "id": "f1b82ea1-bd81-4224-ac1e-203277ea8ed6",
   "metadata": {},
   "source": [
    "We have successfully handled all missing values and prepared the TV Series dataset for further analysis. Next, we apply similar preprocessing steps to the Movies dataset.\n",
    "\n",
    "##### Handling Movies Dataframe Missing Values\n",
    "\n",
    "We now handle missing values in the **Movies dataset**, starting with the `rating` column.\n",
    "- Missing ratings are filled with a **random selection from existing ratings**, consistent with how we handled TV Shows.\n",
    "- This preserves the original distribution and avoids biasing toward a single rating.\n",
    "- A random seed is set to ensure reproducibility."
   ]
  },
  {
   "cell_type": "code",
   "execution_count": 21,
   "id": "cbbc8b80-3251-4897-83f8-3479d40d06e3",
   "metadata": {},
   "outputs": [
    {
     "name": "stdout",
     "output_type": "stream",
     "text": [
      "duration    3\n",
      "dtype: int64\n"
     ]
    }
   ],
   "source": [
    "choices = movies_df['rating'].dropna().unique().tolist()\n",
    "np.random.seed(42)\n",
    "movies_df['rating'] = movies_df['rating'].apply(\n",
    "    lambda x: np.random.choice(choices) if pd.isna(x) else x\n",
    ")\n",
    "print(movies_df.isna().sum()[movies_df.isna().sum()!=0])"
   ]
  },
  {
   "cell_type": "markdown",
   "id": "37e24b4c-eb56-4d28-b411-7a3fa96ad9fa",
   "metadata": {},
   "source": [
    "Next, we handle missing values in the `duration` column.\n",
    "\n",
    "- The `duration` column currently contains strings like \"90 min\".\n",
    "- We remove the *\" min\"* suffix, convert to numeric, and fill missing values with the **median**.\n",
    "- Median is preferred over mean because it is robust to outliers in movie lengths."
   ]
  },
  {
   "cell_type": "code",
   "execution_count": 22,
   "id": "1d910ef3-8b24-42f2-9fb6-d71606df093e",
   "metadata": {},
   "outputs": [
    {
     "data": {
      "image/png": "[encoded data removed]",
      "text/plain": [
       "<Figure size 1000x300 with 1 Axes>"
      ]
     },
     "metadata": {},
     "output_type": "display_data"
    },
    {
     "data": {
      "image/png": "[encoded data removed]",
      "text/plain": [
       "<Figure size 1000x300 with 1 Axes>"
      ]
     },
     "metadata": {},
     "output_type": "display_data"
    }
   ],
   "source": [
    "movies_df['duration'] = movies_df['duration'].str.replace(' min', '', regex=False)\n",
    "movies_df['duration'] = pd.to_numeric(movies_df['duration'], errors='coerce')\n",
    "\n",
    "bins = range(0, int(movies_df['duration'].max()) + 5, 5)\n",
    "labels = [f\"{b}\" for b in bins[:-1]]\n",
    "\n",
    "movies_df['duration_bin'] = pd.cut(movies_df['duration'], bins=bins, labels=labels, include_lowest=True)\n",
    "\n",
    "plt.figure(figsize=(10, 3))\n",
    "sns.boxplot(x=movies_df['duration_bin'])\n",
    "plt.title(\"Boxplot of Movie Duration\")\n",
    "plt.xlabel(\"Duration (minutes)\")\n",
    "plt.xticks(rotation=90, ha='center')\n",
    "\n",
    "plt.show()\n",
    "\n",
    "plt.figure(figsize=(10, 3))\n",
    "sns.histplot(movies_df['duration_bin'], bins=30, kde=True)\n",
    "plt.title(\"Histogram of Movie Duration\")\n",
    "plt.xlabel(\"Duration (minutes)\")\n",
    "plt.ylabel(\"Count\")\n",
    "plt.xticks(rotation=90, ha='center')\n",
    "plt.show()\n",
    "\n",
    "movies_df = movies_df.drop(columns='duration_bin')"
   ]
  },
  {
   "cell_type": "code",
   "execution_count": 23,
   "id": "6c27ac98-141f-46d5-9275-14df1524f717",
   "metadata": {},
   "outputs": [
    {
     "data": {
      "text/html": [
       "<div>\n",
       "<style scoped>\n",
       "    .dataframe tbody tr th:only-of-type {\n",
       "        vertical-align: middle;\n",
       "    }\n",
       "\n",
       "    .dataframe tbody tr th {\n",
       "        vertical-align: top;\n",
       "    }\n",
       "\n",
       "    .dataframe thead th {\n",
       "        text-align: right;\n",
       "    }\n",
       "</style>\n",
       "<table border=\"1\" class=\"dataframe\">\n",
       "  <thead>\n",
       "    <tr style=\"text-align: right;\">\n",
       "      <th></th>\n",
       "      <th>title</th>\n",
       "      <th>duration</th>\n",
       "    </tr>\n",
       "  </thead>\n",
       "  <tbody>\n",
       "    <tr>\n",
       "      <th>0</th>\n",
       "      <td>Dick Johnson Is Dead</td>\n",
       "      <td>90.0</td>\n",
       "    </tr>\n",
       "    <tr>\n",
       "      <th>6</th>\n",
       "      <td>My Little Pony: A New Generation</td>\n",
       "      <td>91.0</td>\n",
       "    </tr>\n",
       "    <tr>\n",
       "      <th>7</th>\n",
       "      <td>Sankofa</td>\n",
       "      <td>125.0</td>\n",
       "    </tr>\n",
       "    <tr>\n",
       "      <th>9</th>\n",
       "      <td>The Starling</td>\n",
       "      <td>104.0</td>\n",
       "    </tr>\n",
       "    <tr>\n",
       "      <th>12</th>\n",
       "      <td>Je Suis Karl</td>\n",
       "      <td>127.0</td>\n",
       "    </tr>\n",
       "  </tbody>\n",
       "</table>\n",
       "</div>"
      ],
      "text/plain": [
       "                               title  duration\n",
       "0               Dick Johnson Is Dead      90.0\n",
       "6   My Little Pony: A New Generation      91.0\n",
       "7                            Sankofa     125.0\n",
       "9                       The Starling     104.0\n",
       "12                      Je Suis Karl     127.0"
      ]
     },
     "metadata": {},
     "output_type": "display_data"
    }
   ],
   "source": [
    "display(movies_df[['title', 'duration']].head())"
   ]
  },
  {
   "cell_type": "code",
   "execution_count": 24,
   "id": "9712db3b-2e73-4299-829a-ffd456855326",
   "metadata": {},
   "outputs": [
    {
     "name": "stdout",
     "output_type": "stream",
     "text": [
      "Series([], dtype: int64)\n"
     ]
    }
   ],
   "source": [
    "median_duration = movies_df['duration'].median()\n",
    "movies_df['duration']=movies_df['duration'].fillna(median_duration)\n",
    "\n",
    "print(movies_df.isna().sum()[movies_df.isna().sum()!=0])"
   ]
  },
  {
   "cell_type": "markdown",
   "id": "0f77a1ad-752e-4670-9f91-f0832d9b0fe7",
   "metadata": {},
   "source": [
    "####\n",
    "#### 2.2.2. Ensure Data Quality\n",
    "In this section, we ensure that the dataset does not contain impossible or erroneous values. Data quality checks are essential before performing exploratory data analysis (EDA), as they guarantee that insights are not biased by invalid records."
   ]
  },
  {
   "cell_type": "markdown",
   "id": "f349f4ec-b59b-431c-b5ce-c32c72f893e7",
   "metadata": {},
   "source": [
    "\n",
    "#####  Date Added vs Release Data\n",
    "No TV show or movie should have a `date_added` earlier than its official `release_year`. Such cases indicate data inconsistencies that must be corrected."
   ]
  },
  {
   "cell_type": "code",
   "execution_count": 25,
   "id": "fdeb9f32-c6ff-43ca-bcf6-80a802273bfe",
   "metadata": {},
   "outputs": [
    {
     "name": "stdout",
     "output_type": "stream",
     "text": [
      "Number of rows with date_added before release_year in tv shows dataset: 12\n",
      "Number of rows with date_added before release_year in movie dataset: 2\n"
     ]
    }
   ],
   "source": [
    "tv_series_df['date_added'] = pd.to_datetime(tv_series_df['date_added'], errors='coerce')\n",
    "print(f\"Number of rows with date_added before release_year in tv shows dataset: {len(tv_series_df[tv_series_df['date_added'].dt.year<tv_series_df['release_year']])}\")\n",
    "\n",
    "movies_df['date_added'] = pd.to_datetime(movies_df['date_added'], errors='coerce')\n",
    "print(f\"Number of rows with date_added before release_year in movie dataset: {len(movies_df[movies_df['date_added'].dt.year<movies_df['release_year']])}\")"
   ]
  },
  {
   "cell_type": "markdown",
   "id": "be380a7a-35fd-4ec2-ae1f-57b13cfd50fd",
   "metadata": {},
   "source": [
    "As we see we have 12 rows with impossible data in the TV Shows dataset and 2 rows with impossible data in the Movies dataset. Such cases are corrected by setting the year of `date_added` equal to `release_year` while preserving month and day. If the day is invalid (e.g., Feb 29), we adjust to the last valid day of the month."
   ]
  },
  {
   "cell_type": "code",
   "execution_count": 26,
   "id": "77e6b0d4-f37f-4973-81f2-681c43247902",
   "metadata": {},
   "outputs": [],
   "source": [
    "def adjust_date(row):\n",
    "    if pd.notna(row['date_added']) and row['date_added'].year < row['release_year']:\n",
    "        try:\n",
    "            return row['date_added'].replace(year=row['release_year'])\n",
    "        except ValueError:\n",
    "            return datetime(row['release_year'], row['date_added'].month, min(row['date_added'].day, 28))\n",
    "    return row['date_added']\n",
    "\n",
    "tv_series_df['date_added'] = tv_series_df.apply(adjust_date, axis=1)\n",
    "movies_df['date_added'] = movies_df.apply(adjust_date, axis=1)"
   ]
  },
  {
   "cell_type": "code",
   "execution_count": 27,
   "id": "4f7bee24-d59f-49c2-8684-c1a84dd8f2f6",
   "metadata": {},
   "outputs": [
    {
     "name": "stdout",
     "output_type": "stream",
     "text": [
      "Number of rows with date_added before release_year: 0\n",
      "Number of rows with date_added before release_year: 0\n"
     ]
    }
   ],
   "source": [
    "print(f\"Number of rows with date_added before release_year: {len(tv_series_df[tv_series_df['date_added'].dt.year<tv_series_df['release_year']])}\")\n",
    "print(f\"Number of rows with date_added before release_year: {len(movies_df[movies_df['date_added'].dt.year<movies_df['release_year']])}\")"
   ]
  },
  {
   "cell_type": "markdown",
   "id": "a081ee6c-9327-469a-a538-71b6b568d4bc",
   "metadata": {},
   "source": [
    "After correction, there are 0 rows with `date_added` earlier than `release_year`, confirming data consistency for subsequent analysis."
   ]
  },
  {
   "cell_type": "markdown",
   "id": "8be46705-9fb6-4c0d-9caf-98490d714a58",
   "metadata": {},
   "source": [
    "######\n",
    "##### Netflix Foundation Year\n",
    "Netflix was founded in 1997, and streaming content was introduced around 2007. \n",
    "\n",
    "Any date_added prior to 1997 would be invalid, as Netflix did not exist. Streaming started around 2007, so dates earlier than this are also unlikely."
   ]
  },
  {
   "cell_type": "code",
   "execution_count": 28,
   "id": "1c29b2d0-09d7-4daf-ab8a-32d6f12c9605",
   "metadata": {},
   "outputs": [
    {
     "name": "stdout",
     "output_type": "stream",
     "text": [
      "6611   2008-02-04\n",
      "5940   2013-08-02\n",
      "5939   2013-09-01\n",
      "6885   2013-10-08\n",
      "7908   2013-10-14\n",
      "          ...    \n",
      "3      2021-09-24\n",
      "4      2021-09-24\n",
      "1      2021-09-24\n",
      "1696   2021-11-15\n",
      "1551   2021-12-14\n",
      "Name: date_added, Length: 2676, dtype: datetime64[ns]\n",
      "5957   2008-01-01\n",
      "5956   2009-05-05\n",
      "5955   2009-11-18\n",
      "7370   2010-11-01\n",
      "5954   2011-05-17\n",
      "          ...    \n",
      "12     2021-09-23\n",
      "7      2021-09-24\n",
      "6      2021-09-24\n",
      "9      2021-09-24\n",
      "0      2021-09-25\n",
      "Name: date_added, Length: 6131, dtype: datetime64[ns]\n"
     ]
    }
   ],
   "source": [
    "print(tv_series_df.sort_values(by=\"date_added\")['date_added'])\n",
    "print(movies_df.sort_values(by=\"date_added\")['date_added'])"
   ]
  },
  {
   "cell_type": "markdown",
   "id": "6c391dbc-c5e4-4bf7-9b62-2630e81c648c",
   "metadata": {},
   "source": [
    "As we can see the first TV show was added in 2008 which means that all the data is correct. This means that the `date_added` column is already handled."
   ]
  },
  {
   "cell_type": "markdown",
   "id": "e143c099-4568-40f3-b9a1-8d5346e32145",
   "metadata": {},
   "source": [
    "######\n",
    "##### Duplicate Entries\n",
    "We previously ensured that there are no duplicate rows but we must make sure that that there are not two rows with the same `title`, `type` and `release_year`, ensuring uniqueness.\n",
    "\n",
    "Ensuring uniqueness by title, type, and release_year prevents counting the same content twice in analyses or aggregations. This check ensures that aggregated metrics (e.g., counts per year, ratings) are not biased by repeated entries"
   ]
  },
  {
   "cell_type": "code",
   "execution_count": 29,
   "id": "4822b107-cb9b-4a5f-aafe-81e631935eed",
   "metadata": {},
   "outputs": [
    {
     "data": {
      "text/html": [
       "<div>\n",
       "<style scoped>\n",
       "    .dataframe tbody tr th:only-of-type {\n",
       "        vertical-align: middle;\n",
       "    }\n",
       "\n",
       "    .dataframe tbody tr th {\n",
       "        vertical-align: top;\n",
       "    }\n",
       "\n",
       "    .dataframe thead th {\n",
       "        text-align: right;\n",
       "    }\n",
       "</style>\n",
       "<table border=\"1\" class=\"dataframe\">\n",
       "  <thead>\n",
       "    <tr style=\"text-align: right;\">\n",
       "      <th></th>\n",
       "      <th>show_id</th>\n",
       "      <th>type</th>\n",
       "      <th>title</th>\n",
       "      <th>director</th>\n",
       "      <th>cast</th>\n",
       "      <th>country</th>\n",
       "      <th>date_added</th>\n",
       "      <th>release_year</th>\n",
       "      <th>rating</th>\n",
       "      <th>duration</th>\n",
       "      <th>listed_in</th>\n",
       "      <th>description</th>\n",
       "    </tr>\n",
       "  </thead>\n",
       "  <tbody>\n",
       "  </tbody>\n",
       "</table>\n",
       "</div>"
      ],
      "text/plain": [
       "Empty DataFrame\n",
       "Columns: [show_id, type, title, director, cast, country, date_added, release_year, rating, duration, listed_in, description]\n",
       "Index: []"
      ]
     },
     "metadata": {},
     "output_type": "display_data"
    },
    {
     "data": {
      "text/html": [
       "<div>\n",
       "<style scoped>\n",
       "    .dataframe tbody tr th:only-of-type {\n",
       "        vertical-align: middle;\n",
       "    }\n",
       "\n",
       "    .dataframe tbody tr th {\n",
       "        vertical-align: top;\n",
       "    }\n",
       "\n",
       "    .dataframe thead th {\n",
       "        text-align: right;\n",
       "    }\n",
       "</style>\n",
       "<table border=\"1\" class=\"dataframe\">\n",
       "  <thead>\n",
       "    <tr style=\"text-align: right;\">\n",
       "      <th></th>\n",
       "      <th>show_id</th>\n",
       "      <th>type</th>\n",
       "      <th>title</th>\n",
       "      <th>director</th>\n",
       "      <th>cast</th>\n",
       "      <th>country</th>\n",
       "      <th>date_added</th>\n",
       "      <th>release_year</th>\n",
       "      <th>rating</th>\n",
       "      <th>duration</th>\n",
       "      <th>listed_in</th>\n",
       "      <th>description</th>\n",
       "    </tr>\n",
       "  </thead>\n",
       "  <tbody>\n",
       "  </tbody>\n",
       "</table>\n",
       "</div>"
      ],
      "text/plain": [
       "Empty DataFrame\n",
       "Columns: [show_id, type, title, director, cast, country, date_added, release_year, rating, duration, listed_in, description]\n",
       "Index: []"
      ]
     },
     "metadata": {},
     "output_type": "display_data"
    }
   ],
   "source": [
    "duplicates_tv = tv_series_df[tv_series_df.duplicated(subset=['title', 'type', 'release_year'], keep=False)]\n",
    "duplicates_movies = movies_df[movies_df.duplicated(subset=['title', 'type', 'release_year'], keep=False)]\n",
    "\n",
    "display(duplicates_tv)\n",
    "display(duplicates_movies)"
   ]
  },
  {
   "cell_type": "markdown",
   "id": "7f5ba4e5-d097-42c4-aa81-f97488342aba",
   "metadata": {},
   "source": [
    "As we can see there are no duplicate values so no actions need to be taken."
   ]
  },
  {
   "cell_type": "markdown",
   "id": "abb2865e-cf8b-432d-a614-5e9f0b35c83c",
   "metadata": {},
   "source": [
    "######\n",
    "##### Impossible Durations\n",
    "Movie durations must be positive values, as 0 or negative durations are impossible and would distort statistical analyses such as mean or median duration."
   ]
  },
  {
   "cell_type": "code",
   "execution_count": 30,
   "id": "4c38b9ac-e3b9-4ea7-9c47-75ab8d56c874",
   "metadata": {},
   "outputs": [
    {
     "data": {
      "text/html": [
       "<div>\n",
       "<style scoped>\n",
       "    .dataframe tbody tr th:only-of-type {\n",
       "        vertical-align: middle;\n",
       "    }\n",
       "\n",
       "    .dataframe tbody tr th {\n",
       "        vertical-align: top;\n",
       "    }\n",
       "\n",
       "    .dataframe thead th {\n",
       "        text-align: right;\n",
       "    }\n",
       "</style>\n",
       "<table border=\"1\" class=\"dataframe\">\n",
       "  <thead>\n",
       "    <tr style=\"text-align: right;\">\n",
       "      <th></th>\n",
       "      <th>show_id</th>\n",
       "      <th>type</th>\n",
       "      <th>title</th>\n",
       "      <th>director</th>\n",
       "      <th>cast</th>\n",
       "      <th>country</th>\n",
       "      <th>date_added</th>\n",
       "      <th>release_year</th>\n",
       "      <th>rating</th>\n",
       "      <th>duration</th>\n",
       "      <th>listed_in</th>\n",
       "      <th>description</th>\n",
       "    </tr>\n",
       "  </thead>\n",
       "  <tbody>\n",
       "  </tbody>\n",
       "</table>\n",
       "</div>"
      ],
      "text/plain": [
       "Empty DataFrame\n",
       "Columns: [show_id, type, title, director, cast, country, date_added, release_year, rating, duration, listed_in, description]\n",
       "Index: []"
      ]
     },
     "metadata": {},
     "output_type": "display_data"
    }
   ],
   "source": [
    "display(movies_df[(movies_df['duration']<=0)])"
   ]
  },
  {
   "cell_type": "code",
   "execution_count": 31,
   "id": "66a3a2c7-0a58-4e5d-aef5-ea5ed6d31303",
   "metadata": {},
   "outputs": [
    {
     "data": {
      "text/plain": [
       "4250    1\n",
       "3944    1\n",
       "3940    1\n",
       "3938    1\n",
       "4227    1\n",
       "       ..\n",
       "67      9\n",
       "1998    9\n",
       "3541    9\n",
       "8       9\n",
       "1480    9\n",
       "Name: duration, Length: 2676, dtype: object"
      ]
     },
     "metadata": {},
     "output_type": "display_data"
    }
   ],
   "source": [
    "tv_series_df['duration'] = tv_series_df['duration'].str.replace(r' Seasons?$', '', regex=True)\n",
    "display(tv_series_df['duration'].sort_values())"
   ]
  },
  {
   "cell_type": "markdown",
   "id": "2f37f855-e5cb-49f8-8de3-19e18138b341",
   "metadata": {},
   "source": [
    "No movies with zero or negative duration were found. TV series durations have been standardized by removing the ‘Season(s)’ suffix."
   ]
  },
  {
   "cell_type": "markdown",
   "id": "70880f58-5310-4f55-8f17-4a1017e91ae3",
   "metadata": {},
   "source": [
    "######\n",
    "##### Summary of Data Quality Checks\n",
    "\n",
    "| Check | TV Shows Issues | Movies Issues | Action Taken |\n",
    "|----------|----------|----------|----------|\n",
    "| Date Added vs Release Year | 12 | 2 | Adjusted `date_added` to `release_year` |\n",
    "| Netflix Foundation Year | 0 | 0 | None |\n",
    "| Duplicate Entries | 0 | 0 | None |\n",
    "| Impossible Durations | 0 | 0 | None |"
   ]
  },
  {
   "cell_type": "markdown",
   "id": "e76aea5c-1ef1-4e5e-a725-5e6bd77e836c",
   "metadata": {},
   "source": [
    "####\n",
    "#### 2.2.3. Standardize Categories\n",
    "The dataset contains several categorical features (e.g., `rating`, `type`, `genres`, `country`) that are inconsistent, duplicated, or stored in formats that make analysis difficult.  \n",
    "Standardizing these categories is essential to:  \n",
    "- **Ensure consistency** across movies and TV series.  \n",
    "- **Correct misplaced values** (e.g., durations stored as ratings).  \n",
    "- **Unify equivalent labels** from different systems (e.g., MPAA vs. TV ratings).  \n",
    "- **Enable meaningful comparisons and visualizations** by using consistent, ordered categories.  \n",
    "\n",
    "In the following subsections, we will address each categorical feature one by one, starting with `rating`.\n",
    "\n",
    "\n",
    "##### **Normalize `Rating`**\n",
    "\n",
    "The `rating` column contains different audience suitability classifications, but they are not standardized across entries.  \n",
    "For example:  \n",
    "- Some values like `\"66 min\"`, `\"74 min\"`, and `\"84 min\"` appear under `rating`, but these are actually **durations** and were misplaced.  \n",
    "- Other values come from **different rating systems** (MPAA for movies, TV parental guidelines for series).  \n",
    "- There are also redundant or inconsistent categories (`\"TV-Y7\"` vs `\"TV-Y7-FV\"`, `\"UR\"` vs `\"NR\"`, `\"G\"` vs `\"TV-G\"`, etc.).\n",
    "\n",
    "To ensure consistency and comparability, we performed the following steps:\n",
    "\n",
    "1. **Correct mislabeled durations**  \n",
    "   - Reassigned `\"66 min\"`, `\"74 min\"`, and `\"84 min\"` from `rating` into the `duration` column.  \n",
    "   - After correction, their `rating` values were set to `\"NR\"` (*Not Rated*).\n",
    "\n",
    "2. **Unify similar or duplicate ratings**  \n",
    "   - `\"UR\"` → `\"NR\"`  \n",
    "   - `\"TV-Y7\"` and `\"TV-Y7-FV\"` → `\"M7\"` (*suitable for 7+*)  \n",
    "   - `\"TV-14\"` → `\"M14\"`  \n",
    "   - `\"TV-G\"` and `\"G\"` → `\"General\"`  \n",
    "   - `\"TV-Y\"` → `\"Young\"`  \n",
    "   - `\"PG-13\"` → `\"M13\"`  \n",
    "   - `\"TV-MA\"`, `\"NC-17\"`, and `\"R\"` → `\"Adult\"`  \n",
    "   - `\"TV-PG\"` → `\"PG\"`\n",
    "\n",
    "3. **Define an ordered categorical scale**  \n",
    "   To make ratings meaningful for analysis and visualization, we introduced an **ordered scale**:  \n"
   ]
  },
  {
   "cell_type": "code",
   "execution_count": 32,
   "id": "3eb6358b-af15-4dfd-b9f7-3751078ca324",
   "metadata": {},
   "outputs": [
    {
     "name": "stdout",
     "output_type": "stream",
     "text": [
      "['PG-13', 'PG', 'TV-MA', 'TV-PG', 'TV-14', 'TV-Y', 'R', 'TV-G', 'TV-Y7', 'G', 'NC-17', '74 min', '84 min', '66 min', 'NR', 'TV-Y7-FV', 'UR']\n",
      "['TV-14', 'TV-MA', 'TV-G', 'TV-PG', 'TV-Y7', 'TV-Y', 'NR', 'TV-Y7-FV', 'R']\n"
     ]
    }
   ],
   "source": [
    "print(movies_df['rating'].unique().tolist())\n",
    "print(tv_series_df['rating'].unique().tolist())"
   ]
  },
  {
   "cell_type": "code",
   "execution_count": 33,
   "id": "d309c6b0-49bf-4613-8e44-7e6897a1f8bf",
   "metadata": {},
   "outputs": [],
   "source": [
    "movies_df.loc[movies_df['rating'] == '66 min', 'duration'] = 66\n",
    "movies_df.loc[movies_df['rating']=='84 min', 'duration'] = 88\n",
    "movies_df.loc[movies_df['rating']=='74 min', 'duration'] = 74\n",
    "\n",
    "movies_df.loc[movies_df['rating'] == '66 min', 'rating'] = 'NR'\n",
    "movies_df.loc[movies_df['rating']=='84 min', 'rating'] = 'NR'\n",
    "movies_df.loc[movies_df['rating']=='74 min', 'rating'] = 'NR'\n",
    "\n",
    "# UR -> NR\n",
    "movies_df.loc[movies_df['rating']=='UR', 'rating'] = 'NR'\n",
    "\n",
    "# TV-Y7 and TV-Y7-FV -> M7\n",
    "movies_df.loc[movies_df['rating']=='TV-Y7', 'rating'] = 'M7'\n",
    "movies_df.loc[movies_df['rating']=='TV-Y7-FV', 'rating'] = 'M7'\n",
    "\n",
    "tv_series_df.loc[tv_series_df['rating']=='TV-Y7', 'rating'] = 'M7'\n",
    "tv_series_df.loc[tv_series_df['rating']=='TV-Y7-FV', 'rating'] = 'M7'\n",
    "\n",
    "# TV-14 -> M14\n",
    "movies_df.loc[movies_df['rating']=='TV-14', 'rating'] = 'M14'\n",
    "tv_series_df.loc[tv_series_df['rating']=='TV-14', 'rating'] = 'M14'\n",
    "\n",
    "# TV-G -> G\n",
    "movies_df.loc[movies_df['rating']=='TV-G', 'rating'] = 'General'\n",
    "movies_df.loc[movies_df['rating']=='G', 'rating'] = 'General'\n",
    "tv_series_df.loc[tv_series_df['rating']=='TV-G', 'rating'] = 'General'\n",
    "\n",
    "# TV-Y -> Y\n",
    "movies_df.loc[movies_df['rating']=='TV-Y', 'rating'] = 'Young'\n",
    "tv_series_df.loc[tv_series_df['rating']=='TV-Y', 'rating'] = 'Young'\n",
    "\n",
    "# PG-13 -> M13\n",
    "movies_df.loc[movies_df['rating']=='PG-13', 'rating'] = 'M13'\n",
    "\n",
    "# TV-MA, NC-17 and R -> A\n",
    "movies_df.loc[movies_df['rating']=='TV-MA', 'rating'] = 'Adult'\n",
    "movies_df.loc[movies_df['rating']=='NC-17', 'rating'] = 'Adult'\n",
    "movies_df.loc[movies_df['rating']=='R', 'rating'] = 'Adult'\n",
    "\n",
    "tv_series_df.loc[tv_series_df['rating']=='R', 'rating'] = 'Adult'\n",
    "tv_series_df.loc[tv_series_df['rating']=='TV-MA', 'rating'] = 'Adult'\n",
    "\n",
    "# TV-PG -> PG\n",
    "movies_df.loc[movies_df['rating']=='TV-PG', 'rating'] = 'PG'\n",
    "tv_series_df.loc[tv_series_df['rating']=='TV-PG', 'rating'] = 'PG'"
   ]
  },
  {
   "cell_type": "code",
   "execution_count": 34,
   "id": "4a129ee7-1e07-4112-bdea-f5d4084956de",
   "metadata": {},
   "outputs": [
    {
     "name": "stdout",
     "output_type": "stream",
     "text": [
      "['M13', 'PG', 'Adult', 'M14', 'Young', 'General', 'M7', 'NR']\n",
      "['M14', 'Adult', 'General', 'PG', 'M7', 'Young', 'NR']\n"
     ]
    }
   ],
   "source": [
    "print(movies_df['rating'].unique().tolist())\n",
    "print(tv_series_df['rating'].unique().tolist())"
   ]
  },
  {
   "cell_type": "code",
   "execution_count": 35,
   "id": "c68936bb-3ca9-4c1b-98ce-0b31562f7ba7",
   "metadata": {},
   "outputs": [],
   "source": [
    "rating_order = ['Young', 'M7', 'M13', 'M14', 'PG', 'General', 'Adult', 'NR']\n",
    "\n",
    "movies_df['rating'] = pd.Categorical(movies_df['rating'], categories=rating_order, ordered=True)\n",
    "tv_series_df['rating'] = pd.Categorical(tv_series_df['rating'], categories=rating_order, ordered=True)"
   ]
  },
  {
   "cell_type": "markdown",
   "id": "c79ce1ff-7cb4-498f-b603-dd1df159c235",
   "metadata": {},
   "source": [
    "- This order represents the **progression of maturity levels**: from content for young audiences → general audiences → adult-only → unrated.  \n",
    "- Both `movies_df` and `tv_series_df` now use this standardized and ordered categorical type.\n",
    "\n",
    "This normalization ensures that:\n",
    "- Ratings are **consistent across movies and TV series**.  \n",
    "- They can be used for **comparative analysis** and **grouped visualizations**.  \n",
    "- Misplaced values no longer pollute the `rating` field.  \n"
   ]
  },
  {
   "cell_type": "markdown",
   "id": "aa115b96-cfdb-4e3c-8d08-bf51c4e34977",
   "metadata": {},
   "source": [
    "#####\n",
    "##### **Standardize `type` and `duration`**\n",
    "\n",
    "Both the `type` and `duration` columns contained inconsistencies that needed to be addressed before analysis.\n",
    "\n",
    "1. **Standardize `type`**  \n",
    "   - The `type` column distinguishes between movies and TV shows.  \n",
    "   - To enforce consistency and prevent typos/duplicates, we converted it into a **categorical variable** with only two valid values: `\"Movie\"` and `\"TV Show\"`.  \n",
    "   - This ensures uniform grouping and makes it easier to filter and aggregate by content type."
   ]
  },
  {
   "cell_type": "code",
   "execution_count": 36,
   "id": "03951c5d-6ff5-4cde-b926-daa183df7d6c",
   "metadata": {},
   "outputs": [],
   "source": [
    "movies_df['type'] = pd.Categorical(movies_df['type'], categories=['Movie', 'TV Show'])\n",
    "tv_series_df['type'] = pd.Categorical(tv_series_df['type'], categories=['Movie', 'TV Show'])"
   ]
  },
  {
   "cell_type": "markdown",
   "id": "1a8353a4-c443-4021-87af-f8d40ae28f42",
   "metadata": {},
   "source": [
    "2. **Standardize `duration`**\n",
    "    - The `duration` field was stored in mixed formats (strings and numbers), which limited numerical analysis.\n",
    "    - We explicitly cast it to float, ensuring compatibility with operations like averages, distributions, and visualizations.\n",
    "    - Any misplaced duration values (originally found in `rating`) were already corrected in the previous step.\n",
    "\n",
    "######\n",
    "⚠️ Note: The meaning of `duration` differs between content types.  \n",
    "- For **Movies**, it represents the runtime in minutes.  \n",
    "- For **TV Shows**, it represents the number of seasons (or episodes in some cases).  \n",
    "\n",
    "Keeping both as numeric values allows easier handling, but interpretations must always consider the content type.\n"
   ]
  },
  {
   "cell_type": "code",
   "execution_count": 37,
   "id": "ad71f510-fa50-424e-bfe0-7802390d3332",
   "metadata": {},
   "outputs": [],
   "source": [
    "movies_df['duration'] = movies_df['duration'].astype(float)\n",
    "tv_series_df['duration'] = tv_series_df['duration'].astype(float)"
   ]
  },
  {
   "cell_type": "markdown",
   "id": "c8ed082a-5061-41b1-aa52-01de2ee62fd9",
   "metadata": {},
   "source": [
    "3. **Validation:**\n",
    "    - After these transformations, we inspected the data types to confirm correctness:"
   ]
  },
  {
   "cell_type": "code",
   "execution_count": 38,
   "id": "7ea1ffb4-8f00-4e9e-b789-f32d6b56d980",
   "metadata": {},
   "outputs": [
    {
     "name": "stdout",
     "output_type": "stream",
     "text": [
      "<class 'pandas.core.frame.DataFrame'>\n",
      "Index: 6131 entries, 0 to 8806\n",
      "Data columns (total 12 columns):\n",
      " #   Column        Non-Null Count  Dtype         \n",
      "---  ------        --------------  -----         \n",
      " 0   show_id       6131 non-null   object        \n",
      " 1   type          6131 non-null   category      \n",
      " 2   title         6131 non-null   object        \n",
      " 3   director      6131 non-null   object        \n",
      " 4   cast          6131 non-null   object        \n",
      " 5   country       6131 non-null   object        \n",
      " 6   date_added    6131 non-null   datetime64[ns]\n",
      " 7   release_year  6131 non-null   int64         \n",
      " 8   rating        6131 non-null   category      \n",
      " 9   duration      6131 non-null   float64       \n",
      " 10  listed_in     6131 non-null   object        \n",
      " 11  description   6131 non-null   object        \n",
      "dtypes: category(2), datetime64[ns](1), float64(1), int64(1), object(7)\n",
      "memory usage: 539.3+ KB\n",
      "None\n",
      "<class 'pandas.core.frame.DataFrame'>\n",
      "Index: 2676 entries, 4250 to 11\n",
      "Data columns (total 12 columns):\n",
      " #   Column        Non-Null Count  Dtype         \n",
      "---  ------        --------------  -----         \n",
      " 0   show_id       2676 non-null   object        \n",
      " 1   type          2676 non-null   category      \n",
      " 2   title         2676 non-null   object        \n",
      " 3   director      2676 non-null   object        \n",
      " 4   cast          2676 non-null   object        \n",
      " 5   country       2676 non-null   object        \n",
      " 6   date_added    2676 non-null   datetime64[ns]\n",
      " 7   release_year  2676 non-null   int64         \n",
      " 8   rating        2676 non-null   category      \n",
      " 9   duration      2676 non-null   float64       \n",
      " 10  listed_in     2676 non-null   object        \n",
      " 11  description   2676 non-null   object        \n",
      "dtypes: category(2), datetime64[ns](1), float64(1), int64(1), object(7)\n",
      "memory usage: 235.7+ KB\n",
      "None\n"
     ]
    }
   ],
   "source": [
    "print(movies_df.info())\n",
    "print(tv_series_df.info())"
   ]
  },
  {
   "cell_type": "markdown",
   "id": "c54b0829-2bc4-4e6b-9bc7-87d067c1d255",
   "metadata": {},
   "source": [
    "- `type` → Categorical (`Movie` / `TV Show`)\n",
    "- `duration` → Float (minutes for movies, episodes count for series)\n",
    "\n",
    "This ensures both attributes are properly standardized and ready for analysis."
   ]
  },
  {
   "cell_type": "markdown",
   "id": "e21262e3-c6c6-47fd-adff-d2149283a475",
   "metadata": {},
   "source": [
    "#####\n",
    "##### Split `listed_in` into a `genres`\n",
    "\n",
    "The `listed_in` column originally contained a **comma-separated string** describing the content categories (e.g., `\"Comedies, Dramas, International Movies\"`).\n",
    "For analysis, it is more useful to work with these categories as a list of individual genres rather than a single string.\n",
    "\n",
    "1. **Rename column for clarity:**\n",
    "    - We renamed `listed_in` to `genres` to better reflect its meaning."
   ]
  },
  {
   "cell_type": "code",
   "execution_count": 39,
   "id": "fb9dc747-4914-4b39-a8e8-a744ad6fb032",
   "metadata": {},
   "outputs": [],
   "source": [
    "movies_df.rename(columns={'listed_in': 'genres'}, inplace=True)\n",
    "tv_series_df.rename(columns={'listed_in': 'genres'}, inplace=True)"
   ]
  },
  {
   "cell_type": "markdown",
   "id": "77fdeedf-6df6-4c30-9cae-4f1f71cd029d",
   "metadata": {},
   "source": [
    "2. **Convert comma-separated strings into lists:**\n",
    "    - Each entry was split by commas.\n",
    "    - Leading/trailing spaces were stripped to ensure clean values.\n",
    "    - The result is a Python list of genres for each row."
   ]
  },
  {
   "cell_type": "code",
   "execution_count": 40,
   "id": "392009e3-2214-473e-b59c-f4c26301ad89",
   "metadata": {},
   "outputs": [],
   "source": [
    "movies_df['genres'] = movies_df['genres'].apply(lambda x: [genre.strip() for genre in x.split(',')])\n",
    "tv_series_df['genres'] = tv_series_df['genres'].apply(lambda x: [genre.strip() for genre in x.split(',')])"
   ]
  },
  {
   "cell_type": "markdown",
   "id": "7e7b1fe7-e7fd-421a-82cb-eeda0293ed0a",
   "metadata": {},
   "source": [
    "3. **Validation:**\n",
    "    - We inspected the structure to confirm the transformation:"
   ]
  },
  {
   "cell_type": "code",
   "execution_count": 41,
   "id": "8b87fefc-96f8-4e49-ad5f-f25b742b8b15",
   "metadata": {},
   "outputs": [
    {
     "name": "stdout",
     "output_type": "stream",
     "text": [
      "<class 'pandas.core.frame.DataFrame'>\n",
      "Index: 6131 entries, 0 to 8806\n",
      "Data columns (total 12 columns):\n",
      " #   Column        Non-Null Count  Dtype         \n",
      "---  ------        --------------  -----         \n",
      " 0   show_id       6131 non-null   object        \n",
      " 1   type          6131 non-null   category      \n",
      " 2   title         6131 non-null   object        \n",
      " 3   director      6131 non-null   object        \n",
      " 4   cast          6131 non-null   object        \n",
      " 5   country       6131 non-null   object        \n",
      " 6   date_added    6131 non-null   datetime64[ns]\n",
      " 7   release_year  6131 non-null   int64         \n",
      " 8   rating        6131 non-null   category      \n",
      " 9   duration      6131 non-null   float64       \n",
      " 10  genres        6131 non-null   object        \n",
      " 11  description   6131 non-null   object        \n",
      "dtypes: category(2), datetime64[ns](1), float64(1), int64(1), object(7)\n",
      "memory usage: 539.3+ KB\n"
     ]
    },
    {
     "data": {
      "text/plain": [
       "None"
      ]
     },
     "metadata": {},
     "output_type": "display_data"
    }
   ],
   "source": [
    "display(movies_df.info())"
   ]
  },
  {
   "cell_type": "markdown",
   "id": "efbcec39-922d-40b5-8561-3a14c61db2b5",
   "metadata": {},
   "source": [
    "Now, `genres` is stored as a list of categories, enabling operations like:\n",
    "- Counting the number of genres per title.\n",
    "- Exploding the list for frequency analysis.\n",
    "- Grouping by specific genres across movies and TV shows."
   ]
  },
  {
   "cell_type": "markdown",
   "id": "de1a07c3-849b-4230-b4ed-c2b404d3daa7",
   "metadata": {},
   "source": [
    "#####\n",
    "##### Country standardization\n",
    "\n",
    "The country `column` contains the country or countries associated with each title.\n",
    "Currently, it is stored as a comma-separated string, and some entries are `\"Unknown\"`.\n",
    "\n",
    "To facilitate analysis and maintain consistency, we standardized the `country` field as follows:\n",
    "1. **Split multiple countries into a list**\n",
    "    - Each entry with multiple countries is split by commas.\n",
    "    - Leading/trailing spaces are removed to clean the values.\n",
    "    - `\"Unknown\"` entries are preserved as a single-item list."
   ]
  },
  {
   "cell_type": "code",
   "execution_count": 42,
   "id": "32f469bb-02aa-44bc-85ec-9249b0273051",
   "metadata": {},
   "outputs": [],
   "source": [
    "def split_countries(x):\n",
    "    if x == 'Unknown':\n",
    "        return ['Unknown']\n",
    "    else:\n",
    "        return [country.strip() for country in x.split(',')]\n",
    "\n",
    "movies_df['country'] = movies_df['country'].apply(split_countries)\n",
    "tv_series_df['country'] = tv_series_df['country'].apply(split_countries)"
   ]
  },
  {
   "cell_type": "markdown",
   "id": "bbc21e37-e31a-410b-9b60-30d44fcac936",
   "metadata": {},
   "source": [
    "2. **Validation**\n",
    "\n",
    "    - After the transformation, each row contains a list of countries, even if there is only one country.\n",
    "    - `\"Unknown\"` is still clearly identifiable, allowing you to filter or handle missing geographic information.\n",
    "\n",
    "\n",
    "This standardization enables:\n",
    "- Counting the number of countries per title.\n",
    "- Grouping or filtering by specific countries.\n",
    "- Future canonicalization or mapping to ISO country codes if needed."
   ]
  },
  {
   "cell_type": "markdown",
   "id": "e1a560e9-ab9e-4a69-bc98-185f472852a7",
   "metadata": {},
   "source": [
    "####\n",
    "#### 2.2.4. Feature Engineering\n",
    "\n",
    "Feature engineering allows us to create **new variables** that can provide additional insights during analysis. Based on the current dataset, we derived several features from existing columns.\n",
    "\n",
    "1. **Extract `added_year` and `added_month` from `date_added`**\n",
    "    - These features capture the **year and month a title was added** to the platform.\n",
    "    - They can be useful for trend analysis, e.g., identifying seasonal patterns in content additions."
   ]
  },
  {
   "cell_type": "code",
   "execution_count": 43,
   "id": "e9371616-bf77-4a1e-b1d2-2c37d8b1553a",
   "metadata": {},
   "outputs": [],
   "source": [
    "movies_df['added_year'] = movies_df['date_added'].dt.year\n",
    "movies_df['added_month'] = movies_df['date_added'].dt.month\n",
    "tv_series_df['added_year'] = tv_series_df['date_added'].dt.year\n",
    "tv_series_df['added_month'] = tv_series_df['date_added'].dt.month"
   ]
  },
  {
   "cell_type": "markdown",
   "id": "596beaff-ef4e-4c2a-88fc-60ef8c624e81",
   "metadata": {},
   "source": [
    "2. **Number of genres per title (`num_genres`)**\n",
    "    - Counts how many genres each title belongs to\n",
    "    - Useful to explore if multi-genre titles differ in popularity or content characteristics"
   ]
  },
  {
   "cell_type": "code",
   "execution_count": 44,
   "id": "4d804d5b-e58b-4358-a176-06a3dcbcebbc",
   "metadata": {},
   "outputs": [],
   "source": [
    "movies_df['num_genres'] = movies_df['genres'].apply(len)\n",
    "tv_series_df['num_genres'] = tv_series_df['genres'].apply(len)"
   ]
  },
  {
   "cell_type": "markdown",
   "id": "0b1aa2ff-b93d-4627-86e9-6153696d5dc0",
   "metadata": {},
   "source": [
    "3. **Number of countries per title (`num_countries`)**\n",
    "    - Indicates how many countries are associated with a title\n",
    "    - Useful for analyzing international content distribution"
   ]
  },
  {
   "cell_type": "code",
   "execution_count": 45,
   "id": "b748aec9-604d-400a-984c-b65be0218f47",
   "metadata": {},
   "outputs": [],
   "source": [
    "movies_df['num_countries'] = movies_df['country'].apply(len)\n",
    "tv_series_df['num_countries'] = tv_series_df['country'].apply(len)"
   ]
  },
  {
   "cell_type": "markdown",
   "id": "3e74c872-1d5e-4a55-888b-4b79dae9c929",
   "metadata": {},
   "source": [
    "4. **Title Length and number of words**\n",
    "    - `title_length` measures the number of characters in the title\n",
    "    - `title_words` counts the number of words\n",
    "    - These features can help detect trends in title naming and evolution of marketing strategies "
   ]
  },
  {
   "cell_type": "code",
   "execution_count": 46,
   "id": "76a6394e-cf7f-4efa-bdb7-e1feb5f5d556",
   "metadata": {},
   "outputs": [],
   "source": [
    "movies_df['title_length'] = movies_df['title'].str.len()\n",
    "tv_series_df['title_length'] = tv_series_df['title'].str.len()\n",
    "\n",
    "movies_df['title_words'] = movies_df['title'].str.split().str.len()\n",
    "tv_series_df['title_words'] = tv_series_df['title'].str.split().str.len()"
   ]
  },
  {
   "cell_type": "markdown",
   "id": "8a2b2188-465d-4cf8-8e61-398a46b90566",
   "metadata": {},
   "source": [
    "5. **Number of actors (`num_actors`)**\n",
    "    - Counts the number of actors listed in the `cast` column\n",
    "    - `\"Unknown\"` or empty casts are counted as 0\n",
    "    - This can help explore relationships between cast size and other variables such as genre, rating or popularity"
   ]
  },
  {
   "cell_type": "code",
   "execution_count": 47,
   "id": "fec9a404-8ed0-48ec-a5cc-7bc46c32498a",
   "metadata": {},
   "outputs": [],
   "source": [
    "def count_actors(cast):\n",
    "    if cast.strip().lower() == \"unknown\" or cast.strip() == \"\":\n",
    "        return 0\n",
    "    return len([actor.strip() for actor in cast.split(\",\") if actor.strip() != \"\"])\n",
    "\n",
    "movies_df['num_actors'] = movies_df['cast'].apply(count_actors)\n",
    "tv_series_df['num_actors'] = tv_series_df['cast'].apply(count_actors)\n"
   ]
  },
  {
   "cell_type": "markdown",
   "id": "b9f58a26-de62-47e7-9977-353beb46009a",
   "metadata": {},
   "source": [
    "6. **Validation:**\n",
    "    - Display the updated dataframes to confirm new features were added correctly:"
   ]
  },
  {
   "cell_type": "code",
   "execution_count": 48,
   "id": "2526d96c-0daa-4d02-833f-21c23e958af4",
   "metadata": {},
   "outputs": [
    {
     "data": {
      "text/html": [
       "<div>\n",
       "<style scoped>\n",
       "    .dataframe tbody tr th:only-of-type {\n",
       "        vertical-align: middle;\n",
       "    }\n",
       "\n",
       "    .dataframe tbody tr th {\n",
       "        vertical-align: top;\n",
       "    }\n",
       "\n",
       "    .dataframe thead th {\n",
       "        text-align: right;\n",
       "    }\n",
       "</style>\n",
       "<table border=\"1\" class=\"dataframe\">\n",
       "  <thead>\n",
       "    <tr style=\"text-align: right;\">\n",
       "      <th></th>\n",
       "      <th>show_id</th>\n",
       "      <th>type</th>\n",
       "      <th>title</th>\n",
       "      <th>director</th>\n",
       "      <th>cast</th>\n",
       "      <th>country</th>\n",
       "      <th>date_added</th>\n",
       "      <th>release_year</th>\n",
       "      <th>rating</th>\n",
       "      <th>duration</th>\n",
       "      <th>genres</th>\n",
       "      <th>description</th>\n",
       "      <th>added_year</th>\n",
       "      <th>added_month</th>\n",
       "      <th>num_genres</th>\n",
       "      <th>num_countries</th>\n",
       "      <th>title_length</th>\n",
       "      <th>title_words</th>\n",
       "      <th>num_actors</th>\n",
       "    </tr>\n",
       "  </thead>\n",
       "  <tbody>\n",
       "    <tr>\n",
       "      <th>0</th>\n",
       "      <td>s1</td>\n",
       "      <td>Movie</td>\n",
       "      <td>Dick Johnson Is Dead</td>\n",
       "      <td>Kirsten Johnson</td>\n",
       "      <td>Unknown</td>\n",
       "      <td>[United States]</td>\n",
       "      <td>2021-09-25</td>\n",
       "      <td>2020</td>\n",
       "      <td>M13</td>\n",
       "      <td>90.0</td>\n",
       "      <td>[Documentaries]</td>\n",
       "      <td>As her father nears the end of his life, filmm...</td>\n",
       "      <td>2021</td>\n",
       "      <td>9</td>\n",
       "      <td>1</td>\n",
       "      <td>1</td>\n",
       "      <td>20</td>\n",
       "      <td>4</td>\n",
       "      <td>0</td>\n",
       "    </tr>\n",
       "    <tr>\n",
       "      <th>6</th>\n",
       "      <td>s7</td>\n",
       "      <td>Movie</td>\n",
       "      <td>My Little Pony: A New Generation</td>\n",
       "      <td>Robert Cullen, José Luis Ucha</td>\n",
       "      <td>Vanessa Hudgens, Kimiko Glenn, James Marsden, ...</td>\n",
       "      <td>[Unknown]</td>\n",
       "      <td>2021-09-24</td>\n",
       "      <td>2021</td>\n",
       "      <td>PG</td>\n",
       "      <td>91.0</td>\n",
       "      <td>[Children &amp; Family Movies]</td>\n",
       "      <td>Equestria's divided. But a bright-eyed hero be...</td>\n",
       "      <td>2021</td>\n",
       "      <td>9</td>\n",
       "      <td>1</td>\n",
       "      <td>1</td>\n",
       "      <td>32</td>\n",
       "      <td>6</td>\n",
       "      <td>10</td>\n",
       "    </tr>\n",
       "    <tr>\n",
       "      <th>7</th>\n",
       "      <td>s8</td>\n",
       "      <td>Movie</td>\n",
       "      <td>Sankofa</td>\n",
       "      <td>Haile Gerima</td>\n",
       "      <td>Kofi Ghanaba, Oyafunmike Ogunlano, Alexandra D...</td>\n",
       "      <td>[United States, Ghana, Burkina Faso, United Ki...</td>\n",
       "      <td>2021-09-24</td>\n",
       "      <td>1993</td>\n",
       "      <td>Adult</td>\n",
       "      <td>125.0</td>\n",
       "      <td>[Dramas, Independent Movies, International Mov...</td>\n",
       "      <td>On a photo shoot in Ghana, an American model s...</td>\n",
       "      <td>2021</td>\n",
       "      <td>9</td>\n",
       "      <td>3</td>\n",
       "      <td>6</td>\n",
       "      <td>7</td>\n",
       "      <td>1</td>\n",
       "      <td>8</td>\n",
       "    </tr>\n",
       "    <tr>\n",
       "      <th>9</th>\n",
       "      <td>s10</td>\n",
       "      <td>Movie</td>\n",
       "      <td>The Starling</td>\n",
       "      <td>Theodore Melfi</td>\n",
       "      <td>Melissa McCarthy, Chris O'Dowd, Kevin Kline, T...</td>\n",
       "      <td>[United States]</td>\n",
       "      <td>2021-09-24</td>\n",
       "      <td>2021</td>\n",
       "      <td>M13</td>\n",
       "      <td>104.0</td>\n",
       "      <td>[Comedies, Dramas]</td>\n",
       "      <td>A woman adjusting to life after a loss contend...</td>\n",
       "      <td>2021</td>\n",
       "      <td>9</td>\n",
       "      <td>2</td>\n",
       "      <td>1</td>\n",
       "      <td>12</td>\n",
       "      <td>2</td>\n",
       "      <td>11</td>\n",
       "    </tr>\n",
       "    <tr>\n",
       "      <th>12</th>\n",
       "      <td>s13</td>\n",
       "      <td>Movie</td>\n",
       "      <td>Je Suis Karl</td>\n",
       "      <td>Christian Schwochow</td>\n",
       "      <td>Luna Wedler, Jannis Niewöhner, Milan Peschel, ...</td>\n",
       "      <td>[Germany, Czech Republic]</td>\n",
       "      <td>2021-09-23</td>\n",
       "      <td>2021</td>\n",
       "      <td>Adult</td>\n",
       "      <td>127.0</td>\n",
       "      <td>[Dramas, International Movies]</td>\n",
       "      <td>After most of her family is murdered in a terr...</td>\n",
       "      <td>2021</td>\n",
       "      <td>9</td>\n",
       "      <td>2</td>\n",
       "      <td>2</td>\n",
       "      <td>12</td>\n",
       "      <td>3</td>\n",
       "      <td>11</td>\n",
       "    </tr>\n",
       "  </tbody>\n",
       "</table>\n",
       "</div>"
      ],
      "text/plain": [
       "   show_id   type                             title  \\\n",
       "0       s1  Movie              Dick Johnson Is Dead   \n",
       "6       s7  Movie  My Little Pony: A New Generation   \n",
       "7       s8  Movie                           Sankofa   \n",
       "9      s10  Movie                      The Starling   \n",
       "12     s13  Movie                      Je Suis Karl   \n",
       "\n",
       "                         director  \\\n",
       "0                 Kirsten Johnson   \n",
       "6   Robert Cullen, José Luis Ucha   \n",
       "7                    Haile Gerima   \n",
       "9                  Theodore Melfi   \n",
       "12            Christian Schwochow   \n",
       "\n",
       "                                                 cast  \\\n",
       "0                                             Unknown   \n",
       "6   Vanessa Hudgens, Kimiko Glenn, James Marsden, ...   \n",
       "7   Kofi Ghanaba, Oyafunmike Ogunlano, Alexandra D...   \n",
       "9   Melissa McCarthy, Chris O'Dowd, Kevin Kline, T...   \n",
       "12  Luna Wedler, Jannis Niewöhner, Milan Peschel, ...   \n",
       "\n",
       "                                              country date_added  \\\n",
       "0                                     [United States] 2021-09-25   \n",
       "6                                           [Unknown] 2021-09-24   \n",
       "7   [United States, Ghana, Burkina Faso, United Ki... 2021-09-24   \n",
       "9                                     [United States] 2021-09-24   \n",
       "12                          [Germany, Czech Republic] 2021-09-23   \n",
       "\n",
       "    release_year rating  duration  \\\n",
       "0           2020    M13      90.0   \n",
       "6           2021     PG      91.0   \n",
       "7           1993  Adult     125.0   \n",
       "9           2021    M13     104.0   \n",
       "12          2021  Adult     127.0   \n",
       "\n",
       "                                               genres  \\\n",
       "0                                     [Documentaries]   \n",
       "6                          [Children & Family Movies]   \n",
       "7   [Dramas, Independent Movies, International Mov...   \n",
       "9                                  [Comedies, Dramas]   \n",
       "12                     [Dramas, International Movies]   \n",
       "\n",
       "                                          description  added_year  \\\n",
       "0   As her father nears the end of his life, filmm...        2021   \n",
       "6   Equestria's divided. But a bright-eyed hero be...        2021   \n",
       "7   On a photo shoot in Ghana, an American model s...        2021   \n",
       "9   A woman adjusting to life after a loss contend...        2021   \n",
       "12  After most of her family is murdered in a terr...        2021   \n",
       "\n",
       "    added_month  num_genres  num_countries  title_length  title_words  \\\n",
       "0             9           1              1            20            4   \n",
       "6             9           1              1            32            6   \n",
       "7             9           3              6             7            1   \n",
       "9             9           2              1            12            2   \n",
       "12            9           2              2            12            3   \n",
       "\n",
       "    num_actors  \n",
       "0            0  \n",
       "6           10  \n",
       "7            8  \n",
       "9           11  \n",
       "12          11  "
      ]
     },
     "metadata": {},
     "output_type": "display_data"
    },
    {
     "data": {
      "text/html": [
       "<div>\n",
       "<style scoped>\n",
       "    .dataframe tbody tr th:only-of-type {\n",
       "        vertical-align: middle;\n",
       "    }\n",
       "\n",
       "    .dataframe tbody tr th {\n",
       "        vertical-align: top;\n",
       "    }\n",
       "\n",
       "    .dataframe thead th {\n",
       "        text-align: right;\n",
       "    }\n",
       "</style>\n",
       "<table border=\"1\" class=\"dataframe\">\n",
       "  <thead>\n",
       "    <tr style=\"text-align: right;\">\n",
       "      <th></th>\n",
       "      <th>show_id</th>\n",
       "      <th>type</th>\n",
       "      <th>title</th>\n",
       "      <th>director</th>\n",
       "      <th>cast</th>\n",
       "      <th>country</th>\n",
       "      <th>date_added</th>\n",
       "      <th>release_year</th>\n",
       "      <th>rating</th>\n",
       "      <th>duration</th>\n",
       "      <th>genres</th>\n",
       "      <th>description</th>\n",
       "      <th>added_year</th>\n",
       "      <th>added_month</th>\n",
       "      <th>num_genres</th>\n",
       "      <th>num_countries</th>\n",
       "      <th>title_length</th>\n",
       "      <th>title_words</th>\n",
       "      <th>num_actors</th>\n",
       "    </tr>\n",
       "  </thead>\n",
       "  <tbody>\n",
       "    <tr>\n",
       "      <th>4250</th>\n",
       "      <td>s4251</td>\n",
       "      <td>TV Show</td>\n",
       "      <td>Pioneers: First Women Filmmakers*</td>\n",
       "      <td>Unknown</td>\n",
       "      <td>Unknown</td>\n",
       "      <td>[Unknown]</td>\n",
       "      <td>2018-12-30</td>\n",
       "      <td>1925</td>\n",
       "      <td>M14</td>\n",
       "      <td>1.0</td>\n",
       "      <td>[TV Shows]</td>\n",
       "      <td>This collection restores films from women who ...</td>\n",
       "      <td>2018</td>\n",
       "      <td>12</td>\n",
       "      <td>1</td>\n",
       "      <td>1</td>\n",
       "      <td>33</td>\n",
       "      <td>4</td>\n",
       "      <td>0</td>\n",
       "    </tr>\n",
       "    <tr>\n",
       "      <th>1331</th>\n",
       "      <td>s1332</td>\n",
       "      <td>TV Show</td>\n",
       "      <td>Five Came Back: The Reference Films</td>\n",
       "      <td>Unknown</td>\n",
       "      <td>Unknown</td>\n",
       "      <td>[United States]</td>\n",
       "      <td>2021-02-09</td>\n",
       "      <td>1945</td>\n",
       "      <td>Adult</td>\n",
       "      <td>1.0</td>\n",
       "      <td>[TV Shows]</td>\n",
       "      <td>This collection includes 12 World War II-era p...</td>\n",
       "      <td>2021</td>\n",
       "      <td>2</td>\n",
       "      <td>1</td>\n",
       "      <td>1</td>\n",
       "      <td>35</td>\n",
       "      <td>6</td>\n",
       "      <td>0</td>\n",
       "    </tr>\n",
       "    <tr>\n",
       "      <th>7743</th>\n",
       "      <td>s7744</td>\n",
       "      <td>TV Show</td>\n",
       "      <td>Pioneers of African-American Cinema</td>\n",
       "      <td>Oscar Micheaux, Spencer Williams, Richard E. N...</td>\n",
       "      <td>Unknown</td>\n",
       "      <td>[United States]</td>\n",
       "      <td>2017-02-01</td>\n",
       "      <td>1946</td>\n",
       "      <td>M14</td>\n",
       "      <td>1.0</td>\n",
       "      <td>[TV Shows]</td>\n",
       "      <td>This newly preserved collection features more ...</td>\n",
       "      <td>2017</td>\n",
       "      <td>2</td>\n",
       "      <td>1</td>\n",
       "      <td>1</td>\n",
       "      <td>35</td>\n",
       "      <td>4</td>\n",
       "      <td>0</td>\n",
       "    </tr>\n",
       "    <tr>\n",
       "      <th>8541</th>\n",
       "      <td>s8542</td>\n",
       "      <td>TV Show</td>\n",
       "      <td>The Twilight Zone (Original Series)</td>\n",
       "      <td>Unknown</td>\n",
       "      <td>Rod Serling</td>\n",
       "      <td>[United States]</td>\n",
       "      <td>2017-07-01</td>\n",
       "      <td>1963</td>\n",
       "      <td>M14</td>\n",
       "      <td>4.0</td>\n",
       "      <td>[Classic &amp; Cult TV, TV Sci-Fi &amp; Fantasy]</td>\n",
       "      <td>Hosted by creator Rod Serling, this groundbrea...</td>\n",
       "      <td>2017</td>\n",
       "      <td>7</td>\n",
       "      <td>2</td>\n",
       "      <td>1</td>\n",
       "      <td>35</td>\n",
       "      <td>5</td>\n",
       "      <td>1</td>\n",
       "    </tr>\n",
       "    <tr>\n",
       "      <th>8189</th>\n",
       "      <td>s8190</td>\n",
       "      <td>TV Show</td>\n",
       "      <td>The Andy Griffith Show</td>\n",
       "      <td>Unknown</td>\n",
       "      <td>Andy Griffith, Ron Howard, Don Knotts, Frances...</td>\n",
       "      <td>[United States]</td>\n",
       "      <td>2017-07-01</td>\n",
       "      <td>1967</td>\n",
       "      <td>General</td>\n",
       "      <td>8.0</td>\n",
       "      <td>[Classic &amp; Cult TV, TV Comedies]</td>\n",
       "      <td>Homespun humor and easygoing Sheriff Andy Tayl...</td>\n",
       "      <td>2017</td>\n",
       "      <td>7</td>\n",
       "      <td>2</td>\n",
       "      <td>1</td>\n",
       "      <td>22</td>\n",
       "      <td>4</td>\n",
       "      <td>6</td>\n",
       "    </tr>\n",
       "  </tbody>\n",
       "</table>\n",
       "</div>"
      ],
      "text/plain": [
       "     show_id     type                                title  \\\n",
       "4250   s4251  TV Show    Pioneers: First Women Filmmakers*   \n",
       "1331   s1332  TV Show  Five Came Back: The Reference Films   \n",
       "7743   s7744  TV Show  Pioneers of African-American Cinema   \n",
       "8541   s8542  TV Show  The Twilight Zone (Original Series)   \n",
       "8189   s8190  TV Show               The Andy Griffith Show   \n",
       "\n",
       "                                               director  \\\n",
       "4250                                            Unknown   \n",
       "1331                                            Unknown   \n",
       "7743  Oscar Micheaux, Spencer Williams, Richard E. N...   \n",
       "8541                                            Unknown   \n",
       "8189                                            Unknown   \n",
       "\n",
       "                                                   cast          country  \\\n",
       "4250                                            Unknown        [Unknown]   \n",
       "1331                                            Unknown  [United States]   \n",
       "7743                                            Unknown  [United States]   \n",
       "8541                                        Rod Serling  [United States]   \n",
       "8189  Andy Griffith, Ron Howard, Don Knotts, Frances...  [United States]   \n",
       "\n",
       "     date_added  release_year   rating  duration  \\\n",
       "4250 2018-12-30          1925      M14       1.0   \n",
       "1331 2021-02-09          1945    Adult       1.0   \n",
       "7743 2017-02-01          1946      M14       1.0   \n",
       "8541 2017-07-01          1963      M14       4.0   \n",
       "8189 2017-07-01          1967  General       8.0   \n",
       "\n",
       "                                        genres  \\\n",
       "4250                                [TV Shows]   \n",
       "1331                                [TV Shows]   \n",
       "7743                                [TV Shows]   \n",
       "8541  [Classic & Cult TV, TV Sci-Fi & Fantasy]   \n",
       "8189          [Classic & Cult TV, TV Comedies]   \n",
       "\n",
       "                                            description  added_year  \\\n",
       "4250  This collection restores films from women who ...        2018   \n",
       "1331  This collection includes 12 World War II-era p...        2021   \n",
       "7743  This newly preserved collection features more ...        2017   \n",
       "8541  Hosted by creator Rod Serling, this groundbrea...        2017   \n",
       "8189  Homespun humor and easygoing Sheriff Andy Tayl...        2017   \n",
       "\n",
       "      added_month  num_genres  num_countries  title_length  title_words  \\\n",
       "4250           12           1              1            33            4   \n",
       "1331            2           1              1            35            6   \n",
       "7743            2           1              1            35            4   \n",
       "8541            7           2              1            35            5   \n",
       "8189            7           2              1            22            4   \n",
       "\n",
       "      num_actors  \n",
       "4250           0  \n",
       "1331           0  \n",
       "7743           0  \n",
       "8541           1  \n",
       "8189           6  "
      ]
     },
     "metadata": {},
     "output_type": "display_data"
    }
   ],
   "source": [
    "display(movies_df.head())\n",
    "display(tv_series_df.head())"
   ]
  },
  {
   "cell_type": "markdown",
   "id": "d153240b-8532-44f9-ad82-af553956b94e",
   "metadata": {},
   "source": [
    "With these engineered features, the dataset is now enriched and ready for deeper exploratory analysis, such as:\n",
    "- Investigating correlations between number of genres, actors, or countries and other variables like `rating` or `duration`.\n",
    "- Visualizing trends over the years based on `added_year` or `added_month`.\n",
    "- Comparing characteristics of titles by type (`Movie` vs `TV Show`)."
   ]
  },
  {
   "cell_type": "markdown",
   "id": "275d4b6a-8446-4b4d-9a0c-bb2bea656166",
   "metadata": {},
   "source": [
    "## 2.3. Conclusions"
   ]
  },
  {
   "cell_type": "code",
   "execution_count": null,
   "id": "9cb08410-bb69-46aa-9525-893b3588a198",
   "metadata": {},
   "outputs": [],
   "source": []
  }
 ],
 "metadata": {
  "kernelspec": {
   "display_name": "Python [conda env:base] *",
   "language": "python",
   "name": "conda-base-py"
  },
  "language_info": {
   "codemirror_mode": {
    "name": "ipython",
    "version": 3
   },
   "file_extension": ".py",
   "mimetype": "text/x-python",
   "name": "python",
   "nbconvert_exporter": "python",
   "pygments_lexer": "ipython3",
   "version": "3.13.5"
  }
 },
 "nbformat": 4,
 "nbformat_minor": 5
}
